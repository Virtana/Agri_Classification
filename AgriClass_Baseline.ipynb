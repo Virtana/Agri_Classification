{
  "nbformat": 4,
  "nbformat_minor": 0,
  "metadata": {
    "colab": {
      "name": "AgriClass_Baseline.ipynb",
      "provenance": [],
      "collapsed_sections": []
    },
    "kernelspec": {
      "name": "python3",
      "display_name": "Python 3"
    },
    "language_info": {
      "name": "python"
    },
    "accelerator": "GPU",
    "gpuClass": "standard"
  },
  "cells": [
    {
      "cell_type": "markdown",
      "source": [
        "PyTorch Plant Helath Classification model. Trains on dataset with images of corn excluded to use as testing data. Training images are resized and normalized then subjected to a random color jitter(variation in brightness, contrast, saturation and hue)."
      ],
      "metadata": {
        "id": "Fx5QtmH73ZcF"
      }
    },
    {
      "cell_type": "code",
      "execution_count": 1,
      "metadata": {
        "colab": {
          "base_uri": "https://localhost:8080/"
        },
        "id": "xVzuz8x-Pnxh",
        "outputId": "9c1fae4e-2e7b-49d3-d4c4-d01d2b77b610"
      },
      "outputs": [
        {
          "output_type": "stream",
          "name": "stdout",
          "text": [
            "Cloning into 'plantvillage_deeplearning_paper_dataset'...\n",
            "remote: Enumerating objects: 163224, done.\u001b[K\n",
            "remote: Total 163224 (delta 0), reused 0 (delta 0), pack-reused 163224\u001b[K\n",
            "Receiving objects: 100% (163224/163224), 2.00 GiB | 17.29 MiB/s, done.\n",
            "Resolving deltas: 100% (97/97), done.\n",
            "Checking out files: 100% (182401/182401), done.\n"
          ]
        }
      ],
      "source": [
        "!git clone https://github.com/digitalepidemiologylab/plantvillage_deeplearning_paper_dataset.git"
      ]
    },
    {
      "cell_type": "code",
      "source": [
        "import os\n",
        "import torch\n",
        "from PIL import Image\n",
        "import torchvision\n",
        "import torchvision.transforms as transforms\n",
        "from PIL import Image\n",
        "from PIL import Image\n",
        "from tensorflow import io\n",
        "from tensorflow import image\n",
        "from matplotlib import pyplot as plt\n",
        "\n",
        "\n",
        "directory = '/content/plantvillage_deeplearning_paper_dataset/raw/color'\n",
        "healthy_dir = []\n",
        "unhealthy_dir = []\n",
        "for filename in os.listdir(directory):\n",
        "    f = os.path.join(directory, filename)\n",
        "    # checking if it is a file\n",
        "    #if os.path.isfile(f):\n",
        "    #if 'Apple' in str(f):\n",
        "    if 'healthy' in str(f):\n",
        "      healthy_dir.append(f)\n",
        "    else:\n",
        "        unhealthy_dir.append(f)\n",
        "print(healthy_dir)\n",
        "print(unhealthy_dir)\n",
        "healthy = []\n",
        "unhealthy = []\n",
        "val_health = []\n",
        "val_uhealth = []\n",
        "for dir in healthy_dir:\n",
        "  if 'Corn' not in str(dir):\n",
        "    for filename in os.listdir(dir):\n",
        "      f = os.path.join(dir, filename)\n",
        "      #healthy.append(torch.Tensor.float(transform(Image.open(f)))[:3])\n",
        "      healthy.append(f)\n",
        "  else:\n",
        "    for filename in os.listdir(dir):\n",
        "      f = os.path.join(dir, filename)\n",
        "      #apple_health.append(torch.Tensor.float(transform(Image.open(f)))[:3])\n",
        "      val_health.append(f)\n",
        "for dir in unhealthy_dir:\n",
        "  if 'Corn' not in str(dir):\n",
        "    for filename in os.listdir(dir):\n",
        "      f = os.path.join(dir, filename)\n",
        "      #unhealthy.append(torch.Tensor.float(transform(Image.open(f)))[:3])\n",
        "      unhealthy.append(f)\n",
        "  else:\n",
        "    for filename in os.listdir(dir):\n",
        "      f = os.path.join(dir, filename)\n",
        "      #val_uhealth.append(torch.Tensor.float(transform(Image.open(f)))[:3])\n",
        "      val_uhealth.append(f)\n",
        "print(len(healthy))\n",
        "#print(healthy[0].shape)\n",
        "print(len(unhealthy))\n",
        "#print(unhealthy[0].shape)\n",
        "# dataset = healthy + unhealthy\n",
        "# labels = [1 for i in range(len(healthy))] + [0 for i in range(len(unhealthy))]"
      ],
      "metadata": {
        "colab": {
          "base_uri": "https://localhost:8080/"
        },
        "id": "usy8bJc3AHdn",
        "outputId": "a48dd0e6-5abf-4b2d-dabb-e6c847aa4c40"
      },
      "execution_count": 2,
      "outputs": [
        {
          "output_type": "stream",
          "name": "stdout",
          "text": [
            "['/content/plantvillage_deeplearning_paper_dataset/raw/color/Raspberry___healthy', '/content/plantvillage_deeplearning_paper_dataset/raw/color/Strawberry___healthy', '/content/plantvillage_deeplearning_paper_dataset/raw/color/Corn_(maize)___healthy', '/content/plantvillage_deeplearning_paper_dataset/raw/color/Apple___healthy', '/content/plantvillage_deeplearning_paper_dataset/raw/color/Grape___healthy', '/content/plantvillage_deeplearning_paper_dataset/raw/color/Peach___healthy', '/content/plantvillage_deeplearning_paper_dataset/raw/color/Blueberry___healthy', '/content/plantvillage_deeplearning_paper_dataset/raw/color/Cherry_(including_sour)___healthy', '/content/plantvillage_deeplearning_paper_dataset/raw/color/Pepper,_bell___healthy', '/content/plantvillage_deeplearning_paper_dataset/raw/color/Soybean___healthy', '/content/plantvillage_deeplearning_paper_dataset/raw/color/Potato___healthy', '/content/plantvillage_deeplearning_paper_dataset/raw/color/Tomato___healthy']\n",
            "['/content/plantvillage_deeplearning_paper_dataset/raw/color/Tomato___Target_Spot', '/content/plantvillage_deeplearning_paper_dataset/raw/color/Apple___Apple_scab', '/content/plantvillage_deeplearning_paper_dataset/raw/color/Corn_(maize)___Northern_Leaf_Blight', '/content/plantvillage_deeplearning_paper_dataset/raw/color/Tomato___Tomato_Yellow_Leaf_Curl_Virus', '/content/plantvillage_deeplearning_paper_dataset/raw/color/Pepper,_bell___Bacterial_spot', '/content/plantvillage_deeplearning_paper_dataset/raw/color/Tomato___Bacterial_spot', '/content/plantvillage_deeplearning_paper_dataset/raw/color/Potato___Late_blight', '/content/plantvillage_deeplearning_paper_dataset/raw/color/Grape___Leaf_blight_(Isariopsis_Leaf_Spot)', '/content/plantvillage_deeplearning_paper_dataset/raw/color/Tomato___Spider_mites Two-spotted_spider_mite', '/content/plantvillage_deeplearning_paper_dataset/raw/color/Grape___Esca_(Black_Measles)', '/content/plantvillage_deeplearning_paper_dataset/raw/color/Tomato___Early_blight', '/content/plantvillage_deeplearning_paper_dataset/raw/color/Orange___Haunglongbing_(Citrus_greening)', '/content/plantvillage_deeplearning_paper_dataset/raw/color/Tomato___Late_blight', '/content/plantvillage_deeplearning_paper_dataset/raw/color/Corn_(maize)___Common_rust_', '/content/plantvillage_deeplearning_paper_dataset/raw/color/Apple___Cedar_apple_rust', '/content/plantvillage_deeplearning_paper_dataset/raw/color/Potato___Early_blight', '/content/plantvillage_deeplearning_paper_dataset/raw/color/Cherry_(including_sour)___Powdery_mildew', '/content/plantvillage_deeplearning_paper_dataset/raw/color/Tomato___Tomato_mosaic_virus', '/content/plantvillage_deeplearning_paper_dataset/raw/color/Grape___Black_rot', '/content/plantvillage_deeplearning_paper_dataset/raw/color/Squash___Powdery_mildew', '/content/plantvillage_deeplearning_paper_dataset/raw/color/Tomato___Septoria_leaf_spot', '/content/plantvillage_deeplearning_paper_dataset/raw/color/Tomato___Leaf_Mold', '/content/plantvillage_deeplearning_paper_dataset/raw/color/Strawberry___Leaf_scorch', '/content/plantvillage_deeplearning_paper_dataset/raw/color/Apple___Black_rot', '/content/plantvillage_deeplearning_paper_dataset/raw/color/Peach___Bacterial_spot', '/content/plantvillage_deeplearning_paper_dataset/raw/color/Corn_(maize)___Cercospora_leaf_spot Gray_leaf_spot']\n",
            "13922\n",
            "36531\n"
          ]
        }
      ]
    },
    {
      "cell_type": "code",
      "source": [
        "from torch.utils.data import Dataset\n",
        "class CustomImageDataset(Dataset):\n",
        "    def __init__(self, labels, images, transform=None, target_transform=None):\n",
        "        self.img_labels = labels\n",
        "        self.imgs = images\n",
        "        self.transform = transform\n",
        "        self.target_transform = target_transform\n",
        "\n",
        "    def __len__(self):\n",
        "        return len(self.img_labels)\n",
        "\n",
        "    def __getitem__(self, idx):\n",
        "        image = torch.Tensor.float(transform(transforms.ToTensor()(Image.open(self.imgs[idx]))[:3]))\n",
        "        label = self.img_labels[idx]\n",
        "        # if self.transform:\n",
        "        #     image = self.transform(image)\n",
        "        # if self.target_transform:\n",
        "        #     label = self.target_transform(label)\n",
        "        return image, label"
      ],
      "metadata": {
        "id": "BuX6OJ6u6fpd"
      },
      "execution_count": 3,
      "outputs": []
    },
    {
      "cell_type": "code",
      "source": [
        "import random\n",
        "def split(dataset, r = 0.8):\n",
        "  k = int(r*len(dataset))\n",
        "  train_idx = random.sample(list(range(len(dataset))), k = k)\n",
        "  test_idx = [i for i in range(len(dataset)) if i not in train_idx]\n",
        "  train_data = [dataset[i] for i in train_idx]\n",
        "  test_data = [dataset[i] for i in test_idx]\n",
        "  return train_data, test_data\n"
      ],
      "metadata": {
        "id": "tcOzsEuK8-sj"
      },
      "execution_count": 4,
      "outputs": []
    },
    {
      "cell_type": "code",
      "source": [
        "h_train, h_test = split(healthy)\n",
        "u_train, u_test = split(unhealthy)\n",
        "train = h_train + u_train\n",
        "tr_labels = [1 for i in range(len(h_train))] + [0 for i in range(len(u_train))]\n",
        "test = h_test + u_test\n",
        "t_labels = [1 for i in range(len(h_test))] + [0 for i in range(len(u_test))]\n",
        "print(len(train), len(test))\n",
        "transform = transforms.Compose([transforms.Resize((16)),\n",
        "     transforms.Normalize((0.485, 0.456, 0.406), (0.229, 0.224, 0.225)), transforms.ColorJitter(brightness=0, contrast=0, saturation=0, hue=0)]) \n",
        "test_transform = transforms.Compose([transforms.Resize((16)),\n",
        "     transforms.Normalize((0.485, 0.456, 0.406), (0.229, 0.224, 0.225))]) \n",
        "train_set = CustomImageDataset(tr_labels, train, transform = transform)\n",
        "test_set = CustomImageDataset(t_labels, test, transform = test_transform)"
      ],
      "metadata": {
        "id": "2HnN-u-g1hze",
        "colab": {
          "base_uri": "https://localhost:8080/"
        },
        "outputId": "38bda9ad-43c6-4c42-c8bc-ffd98a7e6509"
      },
      "execution_count": 5,
      "outputs": [
        {
          "output_type": "stream",
          "name": "stdout",
          "text": [
            "40361 10092\n"
          ]
        }
      ]
    },
    {
      "cell_type": "code",
      "source": [
        "import numpy as np\n",
        "def imshow(img):\n",
        "    img = img / 2 + 0.5     # unnormalize\n",
        "    npimg = img.numpy()\n",
        "    plt.imshow(np.transpose(npimg, (1, 2, 0)))\n",
        "    plt.show()"
      ],
      "metadata": {
        "id": "xFHoEZP_5Pa0"
      },
      "execution_count": 6,
      "outputs": []
    },
    {
      "cell_type": "code",
      "source": [
        "batch_size = 4\n",
        "trainloader = torch.utils.data.DataLoader(train_set, batch_size=batch_size,\n",
        "                                         shuffle=True, num_workers=2)\n",
        "testloader = torch.utils.data.DataLoader(test_set, batch_size=batch_size,\n",
        "                                         shuffle=True, num_workers=2)\n",
        "dataiter = iter(trainloader)\n",
        "images, labels = dataiter.next()\n",
        "print(images[0])\n",
        "imshow(torchvision.utils.make_grid(images))"
      ],
      "metadata": {
        "colab": {
          "base_uri": "https://localhost:8080/",
          "height": 1000
        },
        "id": "Fu8pilZ23MSu",
        "outputId": "9d00e3e9-e93d-40b3-9b21-df9e3d5dacce"
      },
      "execution_count": 7,
      "outputs": [
        {
          "output_type": "stream",
          "name": "stderr",
          "text": [
            "WARNING:matplotlib.image:Clipping input data to the valid range for imshow with RGB data ([0..1] for floats or [0..255] for integers).\n"
          ]
        },
        {
          "output_type": "stream",
          "name": "stdout",
          "text": [
            "tensor([[[-1.1003e-01, -1.3571e-01,  3.9815e-02, -2.5987e-01, -1.8281e-01,\n",
            "           1.6825e-01,  1.0403e-01, -7.5777e-02,  5.5356e-01,  7.8346e-02,\n",
            "          -3.2965e-02,  4.4096e-02,  4.8377e-02,  4.5081e-01, -1.0146e-01,\n",
            "          -1.3999e-01],\n",
            "         [ 4.4096e-02,  1.8966e-01, -3.7246e-02, -1.6568e-01, -1.3999e-01,\n",
            "          -1.6568e-01,  9.5471e-02,  2.0678e-01,  1.8966e-01,  1.2972e-01,\n",
            "           2.6672e-01,  3.9087e-01,  2.0678e-01,  2.2690e-02,  2.1106e-01,\n",
            "           1.5969e-01],\n",
            "         [-5.8652e-02, -2.0122e-02, -3.2965e-02,  2.1963e-01, -1.1431e-01,\n",
            "          -2.9969e-03, -1.5956e+00, -6.5374e-01, -1.2659e+00,  9.5471e-02,\n",
            "          -1.5841e-02,  2.1106e-01,  1.7253e-01,  1.5541e-01,  6.5502e-02,\n",
            "           1.2544e-01],\n",
            "         [ 6.5502e-02,  1.3400e-01, -3.7246e-02,  2.3247e-01,  2.2819e-01,\n",
            "          -2.7271e-01, -4.5680e-01, -4.9961e-01, -3.5405e-01, -1.5271e+00,\n",
            "           3.3950e-01,  4.5509e-01,  2.9669e-01, -1.1859e-01,  5.1931e-01,\n",
            "           3.7803e-01],\n",
            "         [ 1.5969e-01,  1.9394e-01,  2.5816e-01,  2.7528e-01, -1.8824e+00,\n",
            "          -4.8677e-01, -1.0990e+00, -3.5405e-01, -3.3693e-01, -4.3112e-01,\n",
            "          -3.1980e-01,  2.9669e-01,  1.5541e-01,  4.8078e-01,  2.9241e-01,\n",
            "           4.4225e-01],\n",
            "         [ 2.3675e-01,  3.9815e-02, -2.8684e-02,  7.8346e-02, -1.8696e+00,\n",
            "          -5.5527e-01, -3.5405e-01, -5.0390e-01, -7.4364e-01, -1.3045e+00,\n",
            "          -1.9467e+00, -6.7942e-01,  6.6487e-01,  4.3368e-01,  3.9515e-01,\n",
            "           3.9087e-01],\n",
            "         [ 3.6090e-01,  2.2819e-01,  5.2659e-02, -1.9038e+00, -6.5802e-01,\n",
            "          -1.0305e+00, -1.5999e+00, -7.5220e-01, -1.0562e+00, -6.9655e-01,\n",
            "          -6.4946e-01, -7.6077e-01, -1.0433e+00,  4.1228e-01,  2.3675e-01,\n",
            "           3.3950e-01],\n",
            "         [ 1.4256e-01,  3.9515e-01,  5.6940e-02, -5.8096e-01, -1.0348e+00,\n",
            "          -1.0519e+00, -4.4824e-01,  9.8467e-03, -2.0152e+00, -3.8830e-01,\n",
            "          -4.0543e-01, -9.7483e-01,  2.6244e-01,  6.9484e-01,  3.9515e-01,\n",
            "           5.6212e-01],\n",
            "         [ 4.4653e-01,  2.9669e-01,  5.5784e-01, -1.1974e+00, -3.9687e-01,\n",
            "          -1.5284e-01, -3.5405e-01, -7.4792e-01, -3.9259e-01, -3.2409e-01,\n",
            "          -9.4914e-01, -3.3693e-01,  3.5234e-01,  4.9362e-01,  5.7924e-01,\n",
            "           8.4468e-01],\n",
            "         [ 3.3950e-01,  6.3918e-01,  3.8231e-01,  3.5662e-01, -3.3265e-01,\n",
            "           6.5502e-02, -8.0058e-02, -2.1278e-01, -8.0358e-01, -6.4089e-01,\n",
            "           2.6971e-02, -2.1706e-01, -1.5870e+00, -1.1546e+00,  7.0768e-01,\n",
            "           3.5662e-01],\n",
            "         [ 9.5471e-02,  5.4500e-01,  6.5502e-02,  5.1931e-01,  1.0831e-01,\n",
            "          -6.4089e-01, -6.2377e-01,  2.9241e-01, -3.2409e-01, -1.0733e+00,\n",
            "          -7.4364e-01, -1.2189e+00, -8.6780e-01,  3.9943e-01,  4.5081e-01,\n",
            "           4.8078e-01],\n",
            "         [ 6.1778e-01,  6.3062e-01,  5.1503e-01,  6.9912e-01,  5.4071e-01,\n",
            "           8.3612e-01,  7.0340e-01,  5.2659e-02, -5.0818e-01, -4.3968e-01,\n",
            "          -1.6341e+00, -1.6256e+00,  5.6212e-01,  5.0218e-01,  5.7496e-01,\n",
            "           7.0340e-01],\n",
            "         [ 6.5203e-01,  5.5784e-01,  7.1624e-01,  3.0525e-01,  6.8199e-01,\n",
            "           1.3156e+00,  1.1529e+00,  1.6397e-01, -6.3233e-01, -1.2017e+00,\n",
            "           5.9637e-01,  6.2206e-01,  6.5631e-01,  7.3765e-01,  6.4774e-01,\n",
            "           9.2174e-01],\n",
            "         [ 7.5905e-01,  4.2084e-01,  6.3062e-01,  1.1658e+00,  5.1931e-01,\n",
            "           6.1349e-01,  1.0459e+00, -6.1949e-01,  5.4071e-01,  8.1471e-01,\n",
            "           9.0890e-01,  8.8321e-01,  9.3886e-01,  1.0116e+00,  9.9024e-01,\n",
            "           9.4315e-01],\n",
            "         [ 4.7222e-01,  6.0065e-01,  6.8627e-01,  7.9330e-01,  6.0065e-01,\n",
            "           1.0116e+00,  1.1058e+00,  5.6640e-01,  9.2602e-01,  1.1401e+00,\n",
            "           1.0202e+00,  7.3765e-01,  1.1058e+00,  1.0416e+00,  7.5477e-01,\n",
            "           8.0187e-01],\n",
            "         [ 1.1058e+00,  8.2755e-01,  7.1624e-01,  5.1503e-01,  9.8168e-01,\n",
            "           6.2634e-01,  9.5599e-01,  9.4315e-01,  7.8046e-01,  9.5171e-01,\n",
            "           9.2174e-01,  6.9484e-01,  9.1746e-01,  1.0545e+00,  7.7618e-01,\n",
            "           8.5752e-01]],\n",
            "\n",
            "        [[-2.9814e-01, -3.7693e-01, -1.9748e-01, -5.0385e-01, -3.7255e-01,\n",
            "          -6.6176e-02, -1.3183e-01, -3.1565e-01,  3.2773e-01, -1.0557e-01,\n",
            "          -2.7188e-01, -1.9310e-01, -1.8873e-01,  2.7521e-01, -3.0690e-01,\n",
            "          -3.4629e-01],\n",
            "         [-1.9310e-01, -4.4293e-02, -2.7626e-01, -3.5504e-01, -3.8130e-01,\n",
            "          -4.0756e-01, -8.8060e-02, -3.5539e-02, -2.6786e-02, -1.0557e-01,\n",
            "           3.4489e-02,  1.6141e-01, -2.6786e-02, -2.1499e-01, -2.2409e-02,\n",
            "          -2.2409e-02],\n",
            "         [-2.9814e-01, -2.5875e-01, -2.7188e-01, -1.3655e-02, -3.3753e-01,\n",
            "          -2.2374e-01, -1.7906e+00,  1.7454e-01, -7.3582e-01, -2.1061e-01,\n",
            "          -2.3687e-01, -2.2409e-02, -6.1800e-02, -7.9307e-02, -1.7122e-01,\n",
            "          -5.7423e-02],\n",
            "         [-1.7122e-01, -8.3683e-02, -2.5875e-01,  1.6982e-02,  1.2605e-02,\n",
            "          -4.3820e-01,  1.7017e-01,  2.8396e-01,  2.9272e-01, -9.5903e-01,\n",
            "           2.2269e-01,  2.4457e-01,  8.2633e-02, -3.5942e-01,  2.9272e-01,\n",
            "           1.4828e-01],\n",
            "         [-7.4930e-02, -3.9916e-02,  2.5735e-02,  6.0749e-02, -1.8388e+00,\n",
            "          -1.8032e-02, -4.2507e-01,  3.8463e-01,  3.0147e-01,  2.7083e-01,\n",
            "           4.6341e-01,  6.5126e-02, -1.1432e-01,  2.5333e-01,  6.0749e-02,\n",
            "           2.1394e-01],\n",
            "         [ 5.6373e-02, -1.7997e-01, -2.5000e-01, -1.2745e-01, -1.8081e+00,\n",
            "           1.5704e-01,  3.1898e-01,  2.4895e-01, -4.4293e-02, -7.2707e-01,\n",
            "          -1.5236e+00,  3.0112e-02,  6.0347e-01,  2.0518e-01,  1.6579e-01,\n",
            "           2.1394e-01],\n",
            "         [ 1.8330e-01,  1.2605e-02, -1.1432e-01, -1.7906e+00,  7.8256e-02,\n",
            "          -3.0690e-01, -8.5837e-01,  2.1359e-02, -2.5000e-01,  1.5704e-01,\n",
            "           8.2282e-03, -1.0994e-01, -6.8330e-01,  2.0081e-01,  5.6373e-02,\n",
            "           1.6141e-01],\n",
            "         [-3.9916e-02,  1.8330e-01, -1.4933e-01,  1.4391e-01, -2.8064e-01,\n",
            "          -3.4191e-01,  2.7521e-01,  8.4856e-01, -1.4799e+00,  4.0214e-01,\n",
            "           3.1898e-01, -1.7560e-01,  5.5095e-01,  5.2469e-01,  2.1831e-01,\n",
            "           3.8901e-01],\n",
            "         [ 2.7083e-01,  1.1765e-01,  4.3277e-01, -4.3820e-01,  1.7892e-01,\n",
            "           5.6408e-01,  3.0585e-01, -4.8669e-02,  4.3715e-01,  3.9338e-01,\n",
            "          -2.6751e-01, -5.2513e-04,  2.0956e-01,  3.1898e-01,  4.0651e-01,\n",
            "           6.9538e-01],\n",
            "         [ 1.7892e-01,  4.8529e-01,  2.0518e-01,  3.0585e-01,  4.8092e-01,\n",
            "           6.9100e-01,  6.1660e-01,  3.7150e-01,  1.6982e-02, -9.2786e-03,\n",
            "           5.4219e-01,  4.8967e-01, -9.2402e-01, -6.9205e-01,  6.3848e-01,\n",
            "           1.9643e-01],\n",
            "         [-7.0553e-02,  3.8901e-01, -1.0119e-01,  3.6275e-01, -5.7423e-02,\n",
            "           6.5126e-02, -4.8669e-02,  8.0480e-01,  3.0585e-01, -2.0186e-01,\n",
            "          -1.7560e-01, -6.7017e-01, -1.7122e-01,  6.8662e-01,  2.8396e-01,\n",
            "           3.2335e-01],\n",
            "         [ 4.6341e-01,  4.7654e-01,  3.5837e-01,  5.4657e-01,  3.8463e-01,\n",
            "           7.1289e-01,  6.8225e-01,  5.8596e-01,  1.3078e-01,  1.5266e-01,\n",
            "          -1.1210e+00, -1.1647e+00,  3.3211e-01,  3.9776e-01,  4.7216e-01,\n",
            "           6.0347e-01],\n",
            "         [ 5.5095e-01,  4.0214e-01,  5.6408e-01,  1.4391e-01,  5.2906e-01,\n",
            "           1.2293e+00,  9.9300e-01,  7.4352e-01, -1.0994e-01, -7.6646e-01,\n",
            "           8.0917e-01,  5.2031e-01,  5.5532e-01,  6.3848e-01,  5.4657e-01,\n",
            "           8.2668e-01],\n",
            "         [ 6.0784e-01,  3.1460e-01,  4.7654e-01,  1.0236e+00,  4.1527e-01,\n",
            "           5.1155e-01,  9.4485e-01,  1.5266e-01,  4.3715e-01,  7.1726e-01,\n",
            "           8.1355e-01,  7.8729e-01,  8.6169e-01,  9.1859e-01,  8.9671e-01,\n",
            "           8.4856e-01],\n",
            "         [ 3.6712e-01,  4.9842e-01,  5.8596e-01,  6.9538e-01,  4.9842e-01,\n",
            "           9.1859e-01,  9.4485e-01,  1.2819e+00,  8.3106e-01,  1.0499e+00,\n",
            "           9.4485e-01,  6.5599e-01,  1.0324e+00,  9.6674e-01,  6.3848e-01,\n",
            "           7.0413e-01],\n",
            "         [ 1.0149e+00,  7.3039e-01,  6.1660e-01,  4.1089e-01,  8.8796e-01,\n",
            "           5.2468e-01,  8.6169e-01,  1.0061e+00,  6.8225e-01,  8.7483e-01,\n",
            "           8.4419e-01,  6.1222e-01,  8.3981e-01,  9.8862e-01,  6.9538e-01,\n",
            "           7.7854e-01]],\n",
            "\n",
            "        [[ 2.0427e-01,  1.4327e-01,  3.2192e-01,  1.6906e-02,  1.3020e-01,\n",
            "           4.5264e-01,  3.8728e-01,  2.0427e-01,  8.4479e-01,  3.9599e-01,\n",
            "           2.4784e-01,  3.2627e-01,  3.3063e-01,  7.7508e-01,  2.4784e-01,\n",
            "           2.0863e-01],\n",
            "         [ 3.2627e-01,  4.7442e-01,  2.4349e-01,  1.4763e-01,  1.3891e-01,\n",
            "           1.1277e-01,  3.5242e-01,  6.1821e-01,  4.0471e-01,  4.1342e-01,\n",
            "           5.5285e-01,  6.7922e-01,  4.9185e-01,  3.0449e-01,  4.7878e-01,\n",
            "           4.7878e-01],\n",
            "         [ 2.2170e-01,  2.6092e-01,  2.4784e-01,  5.0492e-01,  9.5338e-02,\n",
            "           2.0863e-01, -1.3905e+00, -3.8397e-01, -1.0245e+00,  3.5242e-01,\n",
            "           1.9556e-01,  4.9621e-01,  4.5699e-01,  4.3956e-01,  3.4806e-01,\n",
            "           4.4392e-01],\n",
            "         [ 3.4806e-01,  3.4806e-01,  1.7377e-01,  4.4828e-01,  4.4392e-01,\n",
            "          -1.1381e-01, -5.1468e-01, -2.3146e-01, -1.7952e-02, -1.2729e+00,\n",
            "           6.3129e-01,  6.7486e-01,  5.1364e-01,  1.6070e-01,  8.0993e-01,\n",
            "           6.6614e-01],\n",
            "         [ 4.4392e-01,  4.7878e-01,  5.4414e-01,  4.9185e-01, -1.5909e+00,\n",
            "          -2.6196e-01, -7.8484e-01, -2.6196e-01, -1.3595e-02, -3.9704e-01,\n",
            "          -5.1468e-01,  6.0078e-01,  4.3956e-01,  7.7072e-01,  5.7900e-01,\n",
            "           7.3150e-01],\n",
            "         [ 5.5721e-01,  2.5220e-01,  1.8248e-01,  2.8706e-01, -1.6563e+00,\n",
            "          -1.3560e-01, -2.3146e-01, -4.1447e-01, -5.4519e-01, -1.1029e+00,\n",
            "          -1.6476e+00, -7.1512e-01,  9.5808e-01,  7.2279e-01,  6.8357e-01,\n",
            "           7.1407e-01],\n",
            "         [ 6.1386e-01,  4.4392e-01,  2.9142e-01, -1.6607e+00, -3.7961e-01,\n",
            "          -6.7155e-01, -1.4254e+00, -6.5412e-01, -1.0027e+00, -5.7133e-01,\n",
            "          -3.9704e-01, -5.0161e-01, -8.8505e-01,  6.5743e-01,  5.5721e-01,\n",
            "           6.6179e-01],\n",
            "         [ 4.6135e-01,  6.1386e-01,  2.6092e-01, -3.7089e-01, -7.8919e-01,\n",
            "          -9.1120e-01, -3.0118e-01, -3.5346e-01, -1.6694e+00, -5.6261e-01,\n",
            "          -2.4453e-01, -8.7634e-01,  5.5285e-01,  1.0234e+00,  7.1843e-01,\n",
            "           8.8837e-01],\n",
            "         [ 7.7072e-01,  6.1821e-01,  8.2736e-01, -9.7656e-01, -1.2253e-01,\n",
            "           6.0480e-02, -1.0510e-01, -7.2383e-01, -5.8876e-01, -3.3603e-01,\n",
            "          -8.9377e-01, -4.2318e-01,  6.4000e-01,  8.1865e-01,  9.0580e-01,\n",
            "           1.1934e+00],\n",
            "         [ 6.7922e-01,  9.8423e-01,  6.3564e-01,  6.6614e-01, -2.5760e-01,\n",
            "           2.9577e-01, -2.8810e-01, -3.5381e-02, -8.1098e-01, -3.6218e-01,\n",
            "           5.4850e-01, -2.6667e-02, -1.3121e+00, -8.5455e-01,  9.7987e-01,\n",
            "           6.9664e-01],\n",
            "         [ 4.3085e-01,  8.8837e-01,  4.0035e-01,  8.6222e-01,  3.6985e-01,\n",
            "          -4.1447e-01, -3.4039e-01,  4.2214e-01,  3.8344e-03, -8.1969e-01,\n",
            "          -5.0161e-01, -1.0288e+00, -1.0288e+00,  4.9185e-01,  7.6200e-01,\n",
            "           8.5787e-01],\n",
            "         [ 9.6244e-01,  9.7551e-01,  8.5787e-01,  1.0452e+00,  8.8401e-01,\n",
            "           1.2195e+00,  9.4065e-01,  1.6906e-02, -2.1403e-01, -2.0967e-01,\n",
            "          -1.3469e+00, -1.7129e+00,  9.3194e-01,  9.1451e-01,  9.8858e-01,\n",
            "           1.1193e+00],\n",
            "         [ 1.0322e+00,  9.0144e-01,  1.0627e+00,  6.7922e-01,  1.0278e+00,\n",
            "           1.7075e+00,  1.4897e+00,  1.2584e-01, -2.5760e-01, -9.9399e-01,\n",
            "           8.5351e-01,  1.0365e+00,  1.0714e+00,  1.1542e+00,  1.0627e+00,\n",
            "           1.3415e+00],\n",
            "         [ 1.1062e+00,  7.9686e-01,  9.7551e-01,  1.5202e+00,  8.9708e-01,\n",
            "           9.9294e-01,  1.3633e+00, -1.3251e+00,  9.1887e-01,  1.2326e+00,\n",
            "           1.3285e+00,  1.3023e+00,  1.3764e+00,  1.4330e+00,  1.4112e+00,\n",
            "           1.3633e+00],\n",
            "         [ 8.8401e-01,  1.0147e+00,  1.1019e+00,  1.2108e+00,  9.6244e-01,\n",
            "           1.4330e+00,  1.3895e+00,  5.6122e-02,  1.3459e+00,  1.5637e+00,\n",
            "           1.4592e+00,  1.1716e+00,  1.5463e+00,  1.4810e+00,  1.1890e+00,\n",
            "           1.2195e+00],\n",
            "         [ 1.5289e+00,  1.2457e+00,  1.1324e+00,  9.2758e-01,  1.3502e+00,\n",
            "           1.0060e+00,  1.3764e+00,  1.0234e+00,  1.1977e+00,  1.3895e+00,\n",
            "           1.3590e+00,  1.1280e+00,  1.3546e+00,  1.4766e+00,  1.2282e+00,\n",
            "           1.3110e+00]]])\n"
          ]
        },
        {
          "output_type": "display_data",
          "data": {
            "text/plain": [
              "<Figure size 432x288 with 1 Axes>"
            ],
            "image/png": "[encoded data removed]"
          },
          "metadata": {
            "needs_background": "light"
          }
        }
      ]
    },
    {
      "cell_type": "code",
      "source": [
        "import torch.nn as nn\n",
        "import torch.nn.functional as F\n",
        "\n",
        "\n",
        "class Net(nn.Module):\n",
        "    def __init__(self):\n",
        "        super().__init__()\n",
        "        self.conv1 = nn.Conv2d(3, 6, 3)\n",
        "        self.pool = nn.MaxPool2d(2, 2)\n",
        "        self.conv2 = nn.Conv2d(6, 16, 2)\n",
        "        self.fc1 = nn.Linear(144, 120)\n",
        "        self.fc2 = nn.Linear(120, 84)\n",
        "        self.fc3 = nn.Linear(84, 2)\n",
        "\n",
        "    def forward(self, x):\n",
        "        #print(x.shape)\n",
        "        x = self.pool(F.relu(self.conv1(x)))\n",
        "        #print(x.shape)\n",
        "        x = self.pool(F.relu(self.conv2(x)))\n",
        "        #print(x.shape)\n",
        "        x = torch.flatten(x, 1) # flatten all dimensions except batch\n",
        "        #print(x.shape)\n",
        "        x = F.relu(self.fc1(x))\n",
        "        x = F.relu(self.fc2(x))\n",
        "        x = self.fc3(x)\n",
        "        return x\n",
        "\n",
        "\n",
        "net = Net()"
      ],
      "metadata": {
        "id": "5evAfl8V5sxO"
      },
      "execution_count": 8,
      "outputs": []
    },
    {
      "cell_type": "code",
      "source": [
        "import torch.optim as optim\n",
        "\n",
        "criterion = nn.CrossEntropyLoss()\n",
        "optimizer = optim.SGD(net.parameters(), lr=0.0001, momentum=0.9)"
      ],
      "metadata": {
        "id": "5i5ikpUt7R3L"
      },
      "execution_count": 9,
      "outputs": []
    },
    {
      "cell_type": "code",
      "source": [
        "losses = []\n",
        "device = 'cuda'\n",
        "net = net.to(device)\n",
        "for epoch in range(10):  # loop over the dataset multiple times\n",
        "\n",
        "    running_loss = 0.0\n",
        "    for i, data in enumerate(trainloader, 0):\n",
        "        # get the inputs; data is a list of [inputs, labels]\n",
        "        inputs, labels = data\n",
        "        inputs = inputs.to(device)\n",
        "        labels = labels.to(device)\n",
        "\n",
        "        # zero the parameter gradients\n",
        "        optimizer.zero_grad()\n",
        "\n",
        "        # forward + backward + optimize\n",
        "        outputs = net(inputs)\n",
        "        loss = criterion(outputs, labels)\n",
        "        loss.backward()\n",
        "        optimizer.step()\n",
        "\n",
        "        # print statistics\n",
        "        running_loss += loss.item()\n",
        "        if i % 2000 == 1999:    # print every 2000 mini-batches\n",
        "            print(f'[{epoch + 1}, {i + 1:5d}] loss: {running_loss / 2000:.3f}')\n",
        "            running_loss = 0.0\n",
        "    losses.append(running_loss)\n",
        "    PATH = f'base_color_transform_nocorn_epoch:{epoch}.pth'\n",
        "    torch.save(net.state_dict(), PATH)\n",
        "\n",
        "print('Finished Training')"
      ],
      "metadata": {
        "colab": {
          "base_uri": "https://localhost:8080/"
        },
        "id": "P9tm-Zix7W6B",
        "outputId": "e6b04661-e9c0-403e-9b4e-46c529230691"
      },
      "execution_count": 10,
      "outputs": [
        {
          "output_type": "stream",
          "name": "stdout",
          "text": [
            "[1,  2000] loss: 0.604\n",
            "[1,  4000] loss: 0.557\n",
            "[1,  6000] loss: 0.517\n",
            "[1,  8000] loss: 0.440\n",
            "[1, 10000] loss: 0.401\n",
            "[2,  2000] loss: 0.363\n",
            "[2,  4000] loss: 0.342\n",
            "[2,  6000] loss: 0.329\n",
            "[2,  8000] loss: 0.320\n",
            "[2, 10000] loss: 0.316\n",
            "[3,  2000] loss: 0.306\n",
            "[3,  4000] loss: 0.314\n",
            "[3,  6000] loss: 0.305\n",
            "[3,  8000] loss: 0.306\n",
            "[3, 10000] loss: 0.296\n",
            "[4,  2000] loss: 0.303\n",
            "[4,  4000] loss: 0.295\n",
            "[4,  6000] loss: 0.300\n",
            "[4,  8000] loss: 0.284\n",
            "[4, 10000] loss: 0.282\n",
            "[5,  2000] loss: 0.286\n",
            "[5,  4000] loss: 0.283\n",
            "[5,  6000] loss: 0.277\n",
            "[5,  8000] loss: 0.277\n",
            "[5, 10000] loss: 0.273\n",
            "[6,  2000] loss: 0.263\n",
            "[6,  4000] loss: 0.280\n",
            "[6,  6000] loss: 0.252\n",
            "[6,  8000] loss: 0.244\n",
            "[6, 10000] loss: 0.245\n",
            "[7,  2000] loss: 0.238\n",
            "[7,  4000] loss: 0.234\n",
            "[7,  6000] loss: 0.217\n",
            "[7,  8000] loss: 0.222\n",
            "[7, 10000] loss: 0.212\n",
            "[8,  2000] loss: 0.207\n",
            "[8,  4000] loss: 0.201\n",
            "[8,  6000] loss: 0.205\n",
            "[8,  8000] loss: 0.188\n",
            "[8, 10000] loss: 0.183\n",
            "[9,  2000] loss: 0.191\n",
            "[9,  4000] loss: 0.182\n",
            "[9,  6000] loss: 0.175\n",
            "[9,  8000] loss: 0.178\n",
            "[9, 10000] loss: 0.182\n",
            "[10,  2000] loss: 0.170\n",
            "[10,  4000] loss: 0.163\n",
            "[10,  6000] loss: 0.172\n",
            "[10,  8000] loss: 0.176\n",
            "[10, 10000] loss: 0.163\n",
            "Finished Training\n"
          ]
        }
      ]
    },
    {
      "cell_type": "code",
      "source": [
        "dataiter = iter(testloader)\n",
        "images, labels = dataiter.next()\n",
        "\n",
        "# print images\n",
        "imshow(torchvision.utils.make_grid(images))\n",
        "imshow(images[0])\n",
        "print(images[0]).shape"
      ],
      "metadata": {
        "colab": {
          "base_uri": "https://localhost:8080/",
          "height": 1000
        },
        "id": "hZvcxudLCBXY",
        "outputId": "fb77584a-d11b-4871-8b00-21307718cf94"
      },
      "execution_count": 11,
      "outputs": [
        {
          "output_type": "stream",
          "name": "stderr",
          "text": [
            "WARNING:matplotlib.image:Clipping input data to the valid range for imshow with RGB data ([0..1] for floats or [0..255] for integers).\n"
          ]
        },
        {
          "output_type": "display_data",
          "data": {
            "text/plain": [
              "<Figure size 432x288 with 1 Axes>"
            ],
            "image/png": "[encoded data removed]"
          },
          "metadata": {
            "needs_background": "light"
          }
        },
        {
          "output_type": "stream",
          "name": "stderr",
          "text": [
            "WARNING:matplotlib.image:Clipping input data to the valid range for imshow with RGB data ([0..1] for floats or [0..255] for integers).\n"
          ]
        },
        {
          "output_type": "display_data",
          "data": {
            "text/plain": [
              "<Figure size 432x288 with 1 Axes>"
            ],
            "image/png": "[encoded data removed]"
          },
          "metadata": {
            "needs_background": "light"
          }
        },
        {
          "output_type": "stream",
          "name": "stdout",
          "text": [
            "tensor([[[ 3.6947e-01,  7.8346e-02,  5.1075e-01,  4.7222e-01,  7.8902e-01,\n",
            "           4.4653e-01,  6.0065e-01,  2.4103e-01,  2.8384e-01,  3.4378e-01,\n",
            "           5.2787e-01,  2.9241e-01,  2.3675e-01,  3.7375e-01,  8.2755e-01,\n",
            "           7.8902e-01],\n",
            "         [ 4.3797e-01,  3.1381e-01,  3.6947e-01,  1.9822e-01,  4.2084e-01,\n",
            "           1.1829e+00,  3.7375e-01,  6.5202e-01, -1.0048e+00, -1.4757e+00,\n",
            "           5.2359e-01,  6.9484e-01,  6.0921e-01,  7.8474e-01,  7.3765e-01,\n",
            "           8.6608e-01],\n",
            "         [ 3.5662e-01,  2.6672e-01,  7.6762e-01,  5.5784e-01,  5.1075e-01,\n",
            "           7.2481e-01,  7.8474e-01, -1.0262e+00, -8.0786e-01, -6.9227e-01,\n",
            "           8.5324e-01,  9.4743e-01,  9.0890e-01,  7.4621e-01,  8.0187e-01,\n",
            "           8.5752e-01],\n",
            "         [ 3.3522e-01,  4.5937e-01,  1.5969e-01,  4.3797e-01,  3.9943e-01,\n",
            "           8.6608e-01, -8.0786e-01, -1.1289e+00, -9.7483e-01, -4.5680e-01,\n",
            "          -2.9412e-01,  5.1503e-01,  7.7618e-01,  9.6455e-01,  8.9605e-01,\n",
            "           8.4896e-01],\n",
            "         [ 3.5534e-02,  2.3247e-01,  4.8506e-01,  9.1318e-01,  1.0403e-01,\n",
            "          -8.0786e-01, -6.7514e-01, -9.0205e-01, -1.0776e+00, -1.4886e+00,\n",
            "          -5.1246e-01, -1.1161e+00,  7.6334e-01,  8.5752e-01,  1.1658e+00,\n",
            "           8.6180e-01],\n",
            "         [ 1.0403e-01,  3.0953e-01,  6.9783e-02,  4.2940e-01, -1.4244e+00,\n",
            "          -7.0939e-01, -7.7789e-01, -4.8677e-01, -7.8217e-01, -7.5220e-01,\n",
            "          -7.0083e-01, -3.7118e-01, -1.3687e+00,  7.3765e-01,  7.8474e-01,\n",
            "           8.3183e-01],\n",
            "         [ 1.8966e-01,  3.0525e-01,  7.4621e-01, -1.0476e+00, -2.5131e-01,\n",
            "          -7.4364e-01, -1.2403e+00, -5.0818e-01, -5.5955e-01, -1.1504e+00,\n",
            "          -7.6505e-01, -4.9961e-01, -8.7636e-01,  7.9759e-01,  1.0116e+00,\n",
            "           7.4193e-01],\n",
            "         [-2.9969e-03,  5.1931e-01, -4.9533e-01, -9.1489e-01,  2.1963e-01,\n",
            "          -6.7942e-01, -8.4339e-02, -1.0476e+00, -8.5067e-01, -8.1214e-01,\n",
            "          -7.0083e-01, -4.9105e-01, -3.5405e-01, -1.6042e+00,  8.2755e-01,\n",
            "           7.1196e-01],\n",
            "         [ 1.8409e-02,  7.8346e-02, -1.5143e+00, -2.5987e-01,  7.8346e-02,\n",
            "          -1.6127e+00, -3.4549e-01, -1.0390e+00, -9.1061e-01, -9.0633e-01,\n",
            "          -8.5067e-01, -4.4824e-01, -1.1859e-01, -1.6555e+00,  9.3886e-01,\n",
            "           6.7771e-01],\n",
            "         [ 1.5113e-01,  1.2845e-03, -1.7540e+00, -2.0122e-02, -3.9687e-01,\n",
            "          -1.0647e+00, -5.3815e-01, -4.9533e-01, -5.0390e-01, -1.1803e+00,\n",
            "          -5.6383e-01, -1.4856e-01,  1.6397e-01, -1.6855e+00, -4.3968e-01,\n",
            "           8.1471e-01],\n",
            "         [ 1.6397e-01,  1.0403e-01, -1.0176e+00, -7.5220e-01, -2.5987e-01,\n",
            "          -9.4486e-01, -2.0122e-02, -4.5252e-01, -8.5923e-01, -5.5527e-01,\n",
            "          -5.2530e-01,  7.4064e-02, -5.0090e-02, -1.7412e+00, -1.5785e+00,\n",
            "           7.9759e-01],\n",
            "         [ 2.8812e-01,  3.9943e-01, -1.3987e+00, -4.5252e-01, -7.9930e-01,\n",
            "          -3.5405e-01, -4.8249e-01, -2.8984e-01, -3.2409e-01, -7.1796e-01,\n",
            "          -1.1859e-01,  2.5387e-01, -8.8621e-02, -1.6727e+00, -4.8249e-01,\n",
            "           7.9759e-01],\n",
            "         [ 4.4225e-01,  1.8109e-01, -1.7454e+00, -1.5656e+00, -3.7118e-01,\n",
            "           1.2844e-03, -4.3540e-01, -1.3987e+00, -7.3080e-01, -3.8830e-01,\n",
            "           4.4096e-02, -5.0090e-02, -3.1552e-01, -1.6256e+00,  7.8474e-01,\n",
            "           8.6608e-01],\n",
            "         [ 8.6908e-02, -1.4428e-01,  2.4959e-01, -1.1332e+00, -6.9655e-01,\n",
            "          -7.5220e-01, -1.3387e+00, -1.3516e+00, -1.1559e-02,  2.7956e-01,\n",
            "           1.3828e-01,  1.3828e-01, -1.5314e+00,  6.7771e-01,  7.4193e-01,\n",
            "           6.7343e-01],\n",
            "         [ 2.8812e-01,  1.1260e-01, -1.6140e-01,  6.1221e-02,  4.7222e-01,\n",
            "           6.4774e-01,  4.8506e-01, -1.9565e-01, -7.2780e-03,  2.7100e-01,\n",
            "           7.1624e-01,  7.7190e-01,  6.1778e-01,  7.0768e-01,  6.9912e-01,\n",
            "           7.0768e-01],\n",
            "         [ 1.4256e-01,  9.8467e-03,  2.3247e-01,  1.1688e-01,  5.3215e-01,\n",
            "           2.7956e-01,  4.6793e-01,  5.5356e-01,  5.2359e-01,  5.4071e-01,\n",
            "           6.9484e-01,  6.0065e-01,  6.8199e-01,  6.3490e-01,  7.5477e-01,\n",
            "           8.7893e-01]],\n",
            "\n",
            "        [[ 2.0956e-01, -8.8060e-02,  3.5399e-01,  3.1460e-01,  6.3848e-01,\n",
            "           2.8834e-01,  4.4590e-01,  7.8256e-02,  1.2202e-01,  1.8330e-01,\n",
            "           3.7150e-01,  1.3078e-01,  7.3880e-02,  2.1394e-01,  6.7787e-01,\n",
            "           6.3848e-01],\n",
            "         [ 2.7959e-01,  1.0014e-01,  1.5704e-01, -5.2513e-04,  2.2707e-01,\n",
            "           1.0061e+00,  2.1394e-01,  4.8529e-01, -2.3249e-01, -1.4930e+00,\n",
            "           3.3211e-01,  5.4219e-01,  4.5466e-01,  6.3410e-01,  5.8596e-01,\n",
            "           7.1726e-01],\n",
            "         [ 1.6141e-01,  5.1996e-02,  5.8158e-01,  3.6712e-01,  3.1898e-01,\n",
            "           5.3782e-01,  5.6845e-01, -3.0690e-01, -1.8873e-01, -1.0557e-01,\n",
            "           6.3410e-01,  7.6541e-01,  7.2602e-01,  5.5970e-01,  6.1660e-01,\n",
            "           7.0851e-01],\n",
            "         [ 1.3953e-01,  2.6646e-01, -3.9916e-02,  2.4457e-01,  2.0518e-01,\n",
            "           7.3039e-01, -8.3683e-02, -5.1698e-01, -3.5067e-01,  1.7017e-01,\n",
            "           1.3078e-01,  3.7588e-01,  5.9034e-01,  7.8291e-01,  7.6541e-01,\n",
            "           6.6474e-01],\n",
            "         [-1.6684e-01,  3.4489e-02,  2.5770e-01,  7.3039e-01, -1.1870e-01,\n",
            "          -9.2437e-02, -3.5539e-02, -2.8501e-01, -4.6446e-01, -8.8463e-01,\n",
            "           1.6579e-01, -8.1460e-01,  5.7721e-01,  6.7349e-01,  9.8862e-01,\n",
            "           6.7787e-01],\n",
            "         [-9.6814e-02,  7.8256e-02, -1.6684e-01,  1.8330e-01, -7.1831e-01,\n",
            "          -1.0557e-01, -1.7560e-01,  1.3953e-01, -1.0994e-01, -4.4293e-02,\n",
            "          -9.2788e-03,  4.5028e-01, -1.5849e+00,  5.1593e-01,  5.9909e-01,\n",
            "           6.4723e-01],\n",
            "         [-9.2786e-03,  7.3880e-02,  5.2468e-01, -4.6884e-01,  3.6275e-01,\n",
            "          -1.2307e-01, -6.3078e-01,  1.7017e-01,  1.3515e-01, -4.8634e-01,\n",
            "          -7.4930e-02,  2.8396e-01, -5.7388e-01,  5.5970e-01,  7.9604e-01,\n",
            "           5.3782e-01],\n",
            "         [-2.0623e-01,  2.9272e-01, -1.9310e-01, -2.9814e-01,  8.2668e-01,\n",
            "          -2.2409e-02,  5.6845e-01, -3.8130e-01, -2.6751e-01, -1.2307e-01,\n",
            "           1.6982e-02,  2.9272e-01,  4.5903e-01, -1.6724e+00,  6.2535e-01,\n",
            "           5.0718e-01],\n",
            "         [-2.1936e-01, -1.2307e-01, -1.1385e+00,  3.8901e-01,  7.1726e-01,\n",
            "          -1.1647e+00,  3.1022e-01, -3.3753e-01, -2.9377e-01, -2.8939e-01,\n",
            "          -1.6246e-01,  3.3648e-01,  5.8596e-01, -1.6068e+00,  7.0413e-01,\n",
            "           4.7216e-01],\n",
            "         [-4.8669e-02, -1.9748e-01, -1.4011e+00,  6.3410e-01,  2.6646e-01,\n",
            "          -4.5133e-01,  1.3953e-01,  2.7959e-01,  2.1831e-01, -4.9947e-01,\n",
            "           2.3582e-01,  5.5532e-01,  8.7483e-01, -1.6024e+00, -5.4762e-01,\n",
            "           6.1222e-01],\n",
            "         [-3.5539e-02, -4.8669e-02, -4.3820e-01, -1.1432e-01,  3.8901e-01,\n",
            "          -3.2878e-01,  6.8662e-01,  2.7083e-01, -2.0186e-01,  8.7010e-02,\n",
            "           1.8768e-01,  7.8291e-01,  7.6103e-01, -1.6943e+00, -1.5630e+00,\n",
            "           5.9471e-01],\n",
            "         [ 5.6373e-02,  3.3648e-01, -9.2840e-01,  2.9709e-01, -1.2745e-01,\n",
            "           3.2773e-01,  1.7892e-01,  4.4590e-01,  3.1898e-01, -6.6176e-02,\n",
            "           6.0347e-01,  9.8424e-01,  7.6978e-01, -1.6593e+00, -6.0889e-01,\n",
            "           5.9471e-01],\n",
            "         [ 2.1394e-01, -4.4293e-02, -1.2216e+00, -9.6341e-01,  3.5837e-01,\n",
            "           7.4352e-01,  2.4457e-01, -7.9272e-01,  1.2605e-02,  3.1022e-01,\n",
            "           7.6978e-01,  6.8225e-01, -2.6786e-02, -1.6199e+00,  4.9405e-01,\n",
            "           6.6474e-01],\n",
            "         [-1.3183e-01, -3.6817e-01,  8.7010e-02, -6.1765e-01,  1.3515e-01,\n",
            "           2.5735e-02, -6.7892e-01, -7.3582e-01,  6.9538e-01,  9.7549e-01,\n",
            "           8.3106e-01,  9.8862e-01, -1.6287e+00,  5.0718e-01,  5.3782e-01,\n",
            "           4.6779e-01],\n",
            "         [ 7.3880e-02, -1.0557e-01, -3.8568e-01, -1.9310e-01,  1.6579e-01,\n",
            "           2.8396e-01,  3.3648e-01,  9.1387e-02,  4.6341e-01,  6.6912e-01,\n",
            "           6.7787e-01,  5.2031e-01,  3.7588e-01,  4.6779e-01,  4.9405e-01,\n",
            "           5.0280e-01],\n",
            "         [-7.4930e-02, -2.1061e-01,  1.6982e-02, -1.3620e-01,  2.8834e-01,\n",
            "           3.0112e-02,  2.4020e-01,  3.4524e-01,  2.9709e-01,  2.9709e-01,\n",
            "           4.5466e-01,  3.9338e-01,  4.7654e-01,  4.2840e-01,  5.5095e-01,\n",
            "           6.7787e-01]],\n",
            "\n",
            "        [[ 5.7028e-01,  2.7399e-01,  7.1407e-01,  6.4000e-01,  9.9730e-01,\n",
            "           6.1386e-01,  7.7072e-01,  4.0471e-01,  4.8314e-01,  5.0928e-01,\n",
            "           6.9664e-01,  4.5699e-01,  4.0035e-01,  5.3978e-01,  1.0017e+00,\n",
            "           9.6244e-01],\n",
            "         [ 6.4000e-01,  4.7878e-01,  5.3542e-01,  3.2627e-01,  5.5285e-01,\n",
            "           1.3285e+00,  5.3978e-01,  6.9229e-01, -1.0114e+00, -1.2816e+00,\n",
            "           6.5743e-01,  8.6658e-01,  7.7943e-01,  9.5808e-01,  9.1015e-01,\n",
            "           1.0409e+00],\n",
            "         [ 4.8749e-01,  4.3085e-01,  9.0580e-01,  6.9229e-01,  6.4436e-01,\n",
            "           8.6222e-01,  8.6658e-01, -1.0332e+00, -7.6741e-01, -9.2863e-01,\n",
            "           9.4065e-01,  1.0888e+00,  1.0496e+00,  8.8401e-01,  9.4065e-01,\n",
            "           1.0322e+00],\n",
            "         [ 4.6571e-01,  5.9207e-01,  2.8706e-01,  5.7028e-01,  5.3107e-01,\n",
            "           9.8858e-01, -8.4584e-01, -1.0942e+00, -9.7220e-01, -3.7525e-01,\n",
            "          -5.7168e-02,  6.4871e-01,  8.7965e-01,  1.0714e+00,  1.0365e+00,\n",
            "           9.8858e-01],\n",
            "         [ 1.6070e-01,  3.6113e-01,  6.0078e-01,  1.0539e+00,  1.3891e-01,\n",
            "          -9.5913e-01, -7.5434e-01, -8.9813e-01, -1.0768e+00, -1.4602e+00,\n",
            "          -3.0989e-01, -8.9377e-01,  8.6658e-01,  9.6244e-01,  1.2762e+00,\n",
            "           9.6680e-01],\n",
            "         [ 2.3041e-01,  4.2214e-01,  1.7813e-01,  6.0950e-01, -1.5648e+00,\n",
            "          -7.3691e-01, -6.6719e-01, -4.7547e-01, -7.4126e-01, -6.9333e-01,\n",
            "          -5.7133e-01, -2.9682e-01, -1.2903e+00,  8.2301e-01,  8.8837e-01,\n",
            "           9.3630e-01],\n",
            "         [ 3.1756e-01,  4.1778e-01,  8.4915e-01, -1.1334e+00, -2.5760e-01,\n",
            "          -7.3691e-01, -1.1552e+00, -4.7983e-01, -5.6697e-01, -1.1334e+00,\n",
            "          -6.7155e-01, -3.1425e-01, -7.6305e-01,  8.3172e-01,  1.1019e+00,\n",
            "           7.9251e-01],\n",
            "         [ 1.2148e-01,  6.3564e-01, -6.4105e-01, -1.0245e+00,  2.9577e-01,\n",
            "          -8.1098e-01, -8.3312e-02, -9.7656e-01, -9.3298e-01, -7.8048e-01,\n",
            "          -5.8876e-01, -3.0553e-01, -2.1839e-01, -1.4384e+00,  8.7965e-01,\n",
            "           7.6200e-01],\n",
            "         [ 1.2584e-01,  1.6941e-01, -1.5038e+00, -5.0597e-01, -2.2309e-02,\n",
            "          -1.5735e+00, -4.3625e-01, -1.0986e+00, -9.0684e-01, -9.0248e-01,\n",
            "          -7.5869e-01, -2.6196e-01,  2.1264e-02, -1.5169e+00,  9.7551e-01,\n",
            "           7.2715e-01],\n",
            "         [ 2.4349e-01,  5.1765e-02, -1.6912e+00, -2.5325e-01, -7.0205e-01,\n",
            "          -1.2206e+00, -7.3691e-01, -5.8440e-01, -5.8876e-01, -1.1378e+00,\n",
            "          -4.7547e-01, -4.4096e-02,  3.0885e-01, -1.5648e+00, -3.2296e-01,\n",
            "           8.4915e-01],\n",
            "         [ 2.9142e-01,  6.0479e-02, -1.1116e+00, -9.6349e-01, -4.3625e-01,\n",
            "          -1.0986e+00, -2.6667e-02, -3.0989e-01, -9.5041e-01, -5.6261e-01,\n",
            "          -4.6240e-01,  1.8248e-01,  1.2549e-02, -1.5866e+00, -1.3861e+00,\n",
            "           8.3172e-01],\n",
            "         [ 3.6549e-01,  3.7856e-01, -1.5169e+00, -7.3691e-01, -1.0724e+00,\n",
            "          -6.1926e-01, -6.4540e-01, -4.0139e-01, -5.0597e-01, -7.6305e-01,\n",
            "          -4.8453e-02,  3.3063e-01, -3.6654e-01, -1.4428e+00, -3.7961e-01,\n",
            "           8.3172e-01],\n",
            "         [ 5.2235e-01,  2.3913e-01, -1.6955e+00, -1.6650e+00, -5.2340e-01,\n",
            "          -1.8789e-01, -7.0205e-01, -1.5430e+00, -1.0288e+00, -3.9268e-01,\n",
            "           1.1712e-01, -1.3595e-02, -2.9246e-01, -1.4428e+00,  7.6636e-01,\n",
            "           9.0144e-01],\n",
            "         [ 1.2584e-01, -1.0946e-01,  2.5220e-01, -1.3077e+00, -9.3734e-01,\n",
            "          -1.0332e+00, -1.5517e+00, -1.5212e+00, -6.1525e-02,  3.4370e-01,\n",
            "           2.3041e-01,  2.5621e-02, -1.3644e+00,  7.0972e-01,  7.7508e-01,\n",
            "           7.0536e-01],\n",
            "         [ 3.3063e-01,  1.5198e-01, -1.4431e-01,  6.4837e-02,  4.5699e-01,\n",
            "           5.7464e-01,  3.5678e-01, -6.7590e-01,  5.6122e-02,  2.9577e-01,\n",
            "           6.7050e-01,  7.8815e-01,  6.3129e-01,  7.2279e-01,  7.3150e-01,\n",
            "           7.4022e-01],\n",
            "         [ 1.8248e-01,  2.9978e-02,  2.5656e-01,  1.2148e-01,  5.4414e-01,\n",
            "           2.8706e-01,  4.4392e-01,  5.6593e-01,  6.3129e-01,  5.5285e-01,\n",
            "           7.0972e-01,  6.3129e-01,  7.1407e-01,  6.6614e-01,  7.8815e-01,\n",
            "           9.1451e-01]]])\n"
          ]
        },
        {
          "output_type": "error",
          "ename": "AttributeError",
          "evalue": "ignored",
          "traceback": [
            "\u001b[0;31m---------------------------------------------------------------------------\u001b[0m",
            "\u001b[0;31mAttributeError\u001b[0m                            Traceback (most recent call last)",
            "\u001b[0;32m<ipython-input-11-5fb9d99fd3eb>\u001b[0m in \u001b[0;36m<module>\u001b[0;34m\u001b[0m\n\u001b[1;32m      5\u001b[0m \u001b[0mimshow\u001b[0m\u001b[0;34m(\u001b[0m\u001b[0mtorchvision\u001b[0m\u001b[0;34m.\u001b[0m\u001b[0mutils\u001b[0m\u001b[0;34m.\u001b[0m\u001b[0mmake_grid\u001b[0m\u001b[0;34m(\u001b[0m\u001b[0mimages\u001b[0m\u001b[0;34m)\u001b[0m\u001b[0;34m)\u001b[0m\u001b[0;34m\u001b[0m\u001b[0;34m\u001b[0m\u001b[0m\n\u001b[1;32m      6\u001b[0m \u001b[0mimshow\u001b[0m\u001b[0;34m(\u001b[0m\u001b[0mimages\u001b[0m\u001b[0;34m[\u001b[0m\u001b[0;36m0\u001b[0m\u001b[0;34m]\u001b[0m\u001b[0;34m)\u001b[0m\u001b[0;34m\u001b[0m\u001b[0;34m\u001b[0m\u001b[0m\n\u001b[0;32m----> 7\u001b[0;31m \u001b[0mprint\u001b[0m\u001b[0;34m(\u001b[0m\u001b[0mimages\u001b[0m\u001b[0;34m[\u001b[0m\u001b[0;36m0\u001b[0m\u001b[0;34m]\u001b[0m\u001b[0;34m)\u001b[0m\u001b[0;34m.\u001b[0m\u001b[0mshape\u001b[0m\u001b[0;34m\u001b[0m\u001b[0;34m\u001b[0m\u001b[0m\n\u001b[0m",
            "\u001b[0;31mAttributeError\u001b[0m: 'NoneType' object has no attribute 'shape'"
          ]
        }
      ]
    },
    {
      "cell_type": "code",
      "source": [
        "outputs = net(images)"
      ],
      "metadata": {
        "id": "YpeNlQpdCIzA"
      },
      "execution_count": null,
      "outputs": []
    },
    {
      "cell_type": "code",
      "source": [
        "print(labels)"
      ],
      "metadata": {
        "id": "hq76Keh2GYJ5"
      },
      "execution_count": null,
      "outputs": []
    },
    {
      "cell_type": "code",
      "source": [
        "_, predicted = torch.max(outputs, 1)\n",
        "print(predicted)"
      ],
      "metadata": {
        "id": "5IzWBuQMCRpH"
      },
      "execution_count": null,
      "outputs": []
    },
    {
      "cell_type": "code",
      "source": [
        "correct = 0\n",
        "total = 0\n",
        "# since we're not training, we don't need to calculate the gradients for our outputs\n",
        "with torch.no_grad():\n",
        "    for data in trainloader:\n",
        "        images, labels = data\n",
        "        # calculate outputs by running images through the network\n",
        "        outputs = net(images)\n",
        "        # the class with the highest energy is what we choose as prediction\n",
        "        _, predicted = torch.max(outputs.data, 1)\n",
        "        total += labels.size(0)\n",
        "        correct += (predicted == labels).sum().item()"
      ],
      "metadata": {
        "id": "6cUlw6AOUypy"
      },
      "execution_count": null,
      "outputs": []
    },
    {
      "cell_type": "code",
      "source": [
        "print(f'Train Accuracy of the network: {100 * correct // total} %')"
      ],
      "metadata": {
        "id": "Xa0dZ5HSU1Bs"
      },
      "execution_count": null,
      "outputs": []
    },
    {
      "cell_type": "code",
      "source": [
        "correct = 0\n",
        "total = 0\n",
        "# since we're not training, we don't need to calculate the gradients for our outputs\n",
        "with torch.no_grad():\n",
        "    for data in testloader:\n",
        "        images, labels = data\n",
        "        # calculate outputs by running images through the network\n",
        "        outputs = net(images)\n",
        "        # the class with the highest energy is what we choose as prediction\n",
        "        _, predicted = torch.max(outputs.data, 1)\n",
        "        total += labels.size(0)\n",
        "        correct += (predicted == labels).sum().item()\n"
      ],
      "metadata": {
        "id": "DhxbEpWiGlIf"
      },
      "execution_count": null,
      "outputs": []
    },
    {
      "cell_type": "code",
      "source": [
        "print(f'Test Accuracy of the network: {100 * correct // total} %')"
      ],
      "metadata": {
        "id": "DIe97AKxGqkX"
      },
      "execution_count": null,
      "outputs": []
    },
    {
      "cell_type": "code",
      "source": [
        "val = val_health + val_uhealth\n",
        "v_labels = [1 for i in range(len(val_health))] + [0 for i in range(len(val_uhealth))]"
      ],
      "metadata": {
        "id": "NiVN2pRLgjNZ"
      },
      "execution_count": null,
      "outputs": []
    },
    {
      "cell_type": "code",
      "source": [
        "val_set = CustomImageDataset(v_labels, val, transform = test_transform)\n",
        "val_loader = torch.utils.data.DataLoader(val_set, batch_size=batch_size,\n",
        "                                         shuffle=True, num_workers=2)"
      ],
      "metadata": {
        "id": "wmMbbwWYhc5W"
      },
      "execution_count": null,
      "outputs": []
    },
    {
      "cell_type": "code",
      "source": [
        "correct = 0\n",
        "total = 0\n",
        "# since we're not training, we don't need to calculate the gradients for our outputs\n",
        "with torch.no_grad():\n",
        "    for data in val_loader:\n",
        "        inputs, labels = data\n",
        "        # calculate outputs by running images through the network\n",
        "        outputs = net(inputs)\n",
        "        # the class with the highest energy is what we choose as prediction\n",
        "        _, predicted = torch.max(outputs.data, 1)\n",
        "        total += labels.size(0)\n",
        "        correct += (predicted == labels).sum().item()"
      ],
      "metadata": {
        "id": "029cBIlJh2p4"
      },
      "execution_count": null,
      "outputs": []
    },
    {
      "cell_type": "code",
      "source": [
        "print(f'Test Accuracy of the network: {100 * correct // total} %')\n"
      ],
      "metadata": {
        "id": "LSSbXCddiPuv"
      },
      "execution_count": null,
      "outputs": []
    },
    {
      "cell_type": "code",
      "source": [
        ""
      ],
      "metadata": {
        "id": "rb5wCsvaE7Hc"
      },
      "execution_count": null,
      "outputs": []
    }
  ]
}