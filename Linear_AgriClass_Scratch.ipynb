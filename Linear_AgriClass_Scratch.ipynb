{
  "nbformat": 4,
  "nbformat_minor": 0,
  "metadata": {
    "colab": {
      "name": "Linear AgriClass_Scratch.ipynb",
      "provenance": [],
      "collapsed_sections": []
    },
    "kernelspec": {
      "name": "python3",
      "display_name": "Python 3"
    },
    "language_info": {
      "name": "python"
    }
  },
  "cells": [
    {
      "cell_type": "markdown",
      "source": [
        "From Scratch implementation of a Linear network\n"
      ],
      "metadata": {
        "id": "r5dDYtjBc8P8"
      }
    },
    {
      "cell_type": "code",
      "source": [
        "#import dependencies\n",
        "import numpy as np\n",
        "from scipy import optimize\n",
        "import os\n",
        "from PIL import Image\n",
        "import random"
      ],
      "metadata": {
        "id": "DRGDuBT6_SsU"
      },
      "execution_count": null,
      "outputs": []
    },
    {
      "cell_type": "code",
      "source": [
        "#import dataset\n",
        "!git clone https://github.com/digitalepidemiologylab/plantvillage_deeplearning_paper_dataset.git"
      ],
      "metadata": {
        "colab": {
          "base_uri": "https://localhost:8080/"
        },
        "id": "F7qQSOZO5kV2",
        "outputId": "95f40ded-319b-47c2-ded5-1e5904c80229"
      },
      "execution_count": null,
      "outputs": [
        {
          "output_type": "stream",
          "name": "stdout",
          "text": [
            "Cloning into 'plantvillage_deeplearning_paper_dataset'...\n",
            "remote: Enumerating objects: 163224, done.\u001b[K\n",
            "remote: Total 163224 (delta 0), reused 0 (delta 0), pack-reused 163224\u001b[K\n",
            "Receiving objects: 100% (163224/163224), 2.00 GiB | 32.84 MiB/s, done.\n",
            "Resolving deltas: 100% (97/97), done.\n",
            "Checking out files: 100% (182401/182401), done.\n"
          ]
        }
      ]
    },
    {
      "cell_type": "code",
      "source": [
        "#Find locations of relevant files in dataset\n",
        "directory = '/content/plantvillage_deeplearning_paper_dataset/raw/color'\n",
        "healthy_dir = []\n",
        "unhealthy_dir = []\n",
        "for filename in os.listdir(directory):\n",
        "    f = os.path.join(directory, filename)\n",
        "    # checking if it is a file\n",
        "    #if os.path.isfile(f):\n",
        "    #if 'Apple' in str(f):\n",
        "    if 'Apple' in str(f):\n",
        "      if 'healthy' in str(f):\n",
        "        healthy_dir.append(f)\n",
        "      else:\n",
        "        unhealthy_dir.append(f)"
      ],
      "metadata": {
        "id": "SBPgBcnq5EXS"
      },
      "execution_count": null,
      "outputs": []
    },
    {
      "cell_type": "code",
      "source": [
        "#Open images, resize them and flatten them\n",
        "healthy = []\n",
        "unhealthy = []\n",
        "for dir in healthy_dir:\n",
        "  for filename in os.listdir(dir):\n",
        "    f = os.path.join(dir, filename)\n",
        "    healthy.append(np.array(Image.open(f).resize((16,16)))[:,:,:3].flatten()/256)\n",
        "for dir in unhealthy_dir:\n",
        "  for filename in os.listdir(dir):\n",
        "    f = os.path.join(dir, filename)\n",
        "    unhealthy.append(np.array(Image.open(f).resize((16,16)))[:,:,:3].flatten()/256)"
      ],
      "metadata": {
        "id": "3lpL71oi8I7F"
      },
      "execution_count": null,
      "outputs": []
    },
    {
      "cell_type": "code",
      "source": [
        "#Create labels\n",
        "train = np.array(healthy + unhealthy)\n",
        "print(train.shape)\n",
        "labels = np.array([[1,0] for i in range(len(healthy))] + [[0,1] for i in range(len(unhealthy))])\n",
        "print(labels.shape)"
      ],
      "metadata": {
        "colab": {
          "base_uri": "https://localhost:8080/"
        },
        "id": "iSBKr0aXBoKn",
        "outputId": "945f377c-45f2-48a8-bb5d-e1232b2d3fcb"
      },
      "execution_count": null,
      "outputs": [
        {
          "output_type": "stream",
          "name": "stdout",
          "text": [
            "(3171, 768)\n",
            "(3171, 2)\n"
          ]
        }
      ]
    },
    {
      "cell_type": "code",
      "execution_count": null,
      "metadata": {
        "id": "zJ2Wh3QhRlvm"
      },
      "outputs": [],
      "source": [
        "#Class for Linear Layer objects\n",
        "class LinearLayer:\n",
        "  def __init__(self, in_ft, out_ft, input = False, output = False):\n",
        "    bound = np.sqrt(1/in_ft) #boundraries calculated for initialization\n",
        "    self.weights = np.random.uniform(low = -bound, high = bound, size = (in_ft,out_ft)) #Weights according to initialization\n",
        "    self.bias = np.random.uniform(low = -bound, high = bound, size = (1,out_ft)) #Bias according to initialization\n",
        "    self.input = input \n",
        "    self.output = output\n",
        "  \n",
        "  def call(self, input): # run a forward pass of the Layer and retain gradients\n",
        "    def compute(weights,input):\n",
        "      return (input @ weights) + np.stack(input.shape[0] * [self.bias]).reshape(input.shape[0], -1 )\n",
        "    weights = self.weights\n",
        "    def get_partials(weights,input):\n",
        "      return np.stack(input.shape[0] *[np.ones_like(weights)]) * input.reshape(-1,input.shape[1],1)\n",
        "    self.partials = get_partials(weights,input)\n",
        "    self.bpartials = np.stack(input.shape[0]* [np.identity(weights.shape[1])])\n",
        "    self.forwardgrad = np.stack([weights] * input.shape[0])\n",
        "    return compute(weights, input)\n",
        "  def is_in(self):\n",
        "    return self.input\n",
        "  def is_out(self):\n",
        "    return self.output\n",
        "  def update(self, delta):\n",
        "    self.weights += delta\n",
        "  def backward(self, retain, lr): #Update a layer given the gradient of the following layers and the learning rate\n",
        "    self.weights += lr * np.sum(self.partials * retain.transpose(0,2,1), 0)\n",
        "    self.bias += lr * np.sum(retain.transpose(0,2,1) @ self.bpartials, 0)\n",
        "    return self.forwardgrad  @ retain\n",
        "    "
      ]
    },
    {
      "cell_type": "code",
      "source": [
        "class ReLU:\n",
        "  def __init__(self, input = False, output = False):\n",
        "    self.input = input\n",
        "    self.output = output\n",
        "  def call(self, input):\n",
        "    self.forwardgrad = np.stack([np.diag(np.where(i>0, 1, 0)) for i in input])\n",
        "    self.partials = np.maximum(0,input)\n",
        "    return self.partials\n",
        "  def is_in(self):\n",
        "    return self.input\n",
        "  def is_out(self):\n",
        "    return self.output\n",
        "  def backward(self, retain, lr):\n",
        "    return self.forwardgrad  @ retain"
      ],
      "metadata": {
        "id": "h24pMomcAJLT"
      },
      "execution_count": null,
      "outputs": []
    },
    {
      "cell_type": "code",
      "source": [
        "class MSE:\n",
        "  def loss(self, y, y_p):\n",
        "    return np.sum((y_p - y) ** 2)/len(y)\n",
        "  def grad(self, y, y_p):\n",
        "    return -2*(y_p - y) * y"
      ],
      "metadata": {
        "id": "Q0UkdsaNaxZd"
      },
      "execution_count": null,
      "outputs": []
    },
    {
      "cell_type": "code",
      "source": [
        "class simple_NN:\n",
        "  def __init__(self):\n",
        "    self.layers = []\n",
        "    self.layers.append(LinearLayer(10,5))\n",
        "    self.layers.append(LinearLayer(5,1))\n",
        "\n",
        "  def forward(self, x):\n",
        "    for layer in self.layers:\n",
        "      x = layer.call(x)\n",
        "    return x\n",
        "  def backward(self, lgrad, lr):\n",
        "    retain = np.array(lgrad).reshape(self.layers[0].partials.shape[0],-1,1)\n",
        "    for layer in reversed(self.layers):\n",
        "      retain = layer.backward(retain, lr)\n"
      ],
      "metadata": {
        "id": "_GiOg85DA4Js"
      },
      "execution_count": null,
      "outputs": []
    },
    {
      "cell_type": "code",
      "source": [
        "simple_net = simple_NN()"
      ],
      "metadata": {
        "id": "Wd0PTE6RBafn"
      },
      "execution_count": null,
      "outputs": []
    },
    {
      "cell_type": "code",
      "source": [
        "criterion = MSE()"
      ],
      "metadata": {
        "id": "cnenAJI5BeTp"
      },
      "execution_count": null,
      "outputs": []
    },
    {
      "cell_type": "code",
      "source": [
        "for i in range(10):\n",
        "  X = np.random.uniform(size = (20, 10))\n",
        "  y_pred = simple_net.forward(X)\n",
        "  y = np.sum(X, axis =1).reshape(20,1) * 0.5\n",
        "  print(criterion.loss(y_pred, y))\n",
        "  #print(net.layers[0].weights)\n",
        "  #print(y.shape)\n",
        "  #print(labels[:10].shape)\n",
        "  simple_net.backward(criterion.grad(y, y_pred), 0.0001)"
      ],
      "metadata": {
        "colab": {
          "base_uri": "https://localhost:8080/"
        },
        "id": "qFLikhnIBQBf",
        "outputId": "6ead5963-fdce-42f4-f5c8-29de91f21f40"
      },
      "execution_count": null,
      "outputs": [
        {
          "output_type": "stream",
          "name": "stdout",
          "text": [
            "0.06542612387437993\n",
            "0.05830847228989043\n",
            "0.060884621649259785\n",
            "0.0739705833619717\n",
            "0.060121448785648235\n",
            "0.0751634860228629\n",
            "0.07466104553771002\n",
            "0.062185182951090566\n",
            "0.06403638563305554\n",
            "0.062170310958654953\n"
          ]
        }
      ]
    },
    {
      "cell_type": "code",
      "source": [
        "class NN:\n",
        "  def __init__(self):\n",
        "    self.layers = []\n",
        "    self.layers.append(LinearLayer(768,64, input = True))\n",
        "    #self.layers.append(ReLU())\n",
        "    self.layers.append(LinearLayer(64,32))\n",
        "    #self.layers.append(ReLU())\n",
        "    self.layers.append(LinearLayer(32,2))\n",
        "    self.layers.append(ReLU(output = True))\n",
        "    #self.layers.append(LinearLayer(3,2))\n",
        "    #self.layers.append(LinearLayer(2,12, output = True))\n",
        "  def forward(self, x):\n",
        "    for layer in self.layers:\n",
        "      x = layer.call(x)\n",
        "    return x\n",
        "  def backward(self, lgrad, lr):\n",
        "    retain = np.array(lgrad).reshape(self.layers[0].partials.shape[0],-1,1)\n",
        "    for layer in reversed(self.layers):\n",
        "      retain = layer.backward(retain, lr)\n",
        "\n",
        "\n"
      ],
      "metadata": {
        "id": "DXMb31_qW-FB"
      },
      "execution_count": null,
      "outputs": []
    },
    {
      "cell_type": "code",
      "source": [
        "net = NN()"
      ],
      "metadata": {
        "id": "LYy2eo8AzeFp"
      },
      "execution_count": null,
      "outputs": []
    },
    {
      "cell_type": "code",
      "source": [
        "criterion = MSE()"
      ],
      "metadata": {
        "id": "qXq1zzYWzn08"
      },
      "execution_count": null,
      "outputs": []
    },
    {
      "cell_type": "code",
      "source": [
        "class ImageLoader():\n",
        "    def __init__(self, dset, labels, batch_size):\n",
        "      indices = list(range(dset.shape[0]))\n",
        "      random.shuffle(indices)\n",
        "      #print(indices)\n",
        "      self.dset = dset[indices]\n",
        "      self.labels = labels[indices]\n",
        "      self.calls = self.dset.shape[0] // batch_size\n",
        "    def call(self,i):\n",
        "      return (self.dset[i*10:(i+1)*10], self.labels[i*10:(i+1)*10])\n",
        "      "
      ],
      "metadata": {
        "id": "CUXLvfWD2Dc6"
      },
      "execution_count": null,
      "outputs": []
    },
    {
      "cell_type": "code",
      "source": [
        "train_loader = ImageLoader(train, labels, 100)"
      ],
      "metadata": {
        "id": "hWxajVgq8sy1"
      },
      "execution_count": null,
      "outputs": []
    },
    {
      "cell_type": "code",
      "source": [
        "print(train_loader.calls)"
      ],
      "metadata": {
        "colab": {
          "base_uri": "https://localhost:8080/"
        },
        "id": "c5xfQWKi9Lrl",
        "outputId": "0c1c9ce3-28ff-4374-abc7-329dec1b649c"
      },
      "execution_count": null,
      "outputs": [
        {
          "output_type": "stream",
          "name": "stdout",
          "text": [
            "31\n"
          ]
        }
      ]
    },
    {
      "cell_type": "code",
      "source": [
        "for i in range(train_loader.calls):\n",
        "  X, y = train_loader.call(i)\n",
        "  y_pred = net.forward(X)\n",
        "  print(criterion.loss(y_pred, y))\n",
        "  net.backward(criterion.grad(y, y_pred), 0.001)"
      ],
      "metadata": {
        "colab": {
          "base_uri": "https://localhost:8080/"
        },
        "id": "EbKJIWU0u0YE",
        "outputId": "daa42000-e799-440d-e2ed-5ecf0d7ff792"
      },
      "execution_count": null,
      "outputs": [
        {
          "output_type": "stream",
          "name": "stdout",
          "text": [
            "0.8244601731153696\n",
            "0.49533015743901193\n",
            "0.6717016587963345\n",
            "0.617846315440259\n",
            "0.6272463840849242\n",
            "0.6602934952297299\n",
            "0.8194606935410356\n",
            "0.9658575694167553\n",
            "0.8600052858309688\n",
            "1.007164879131294\n",
            "0.9582632012509584\n",
            "1.0340887398336167\n",
            "0.9634847039085702\n",
            "0.9937875268873597\n",
            "1.1056646947094246\n",
            "1.0403588756183206\n",
            "0.888970024713549\n",
            "0.9324852659780648\n",
            "0.9936944959054521\n",
            "1.2382414018923749\n",
            "0.9478560845205456\n",
            "0.9262562235467268\n",
            "1.06504744894536\n",
            "1.1024533171710953\n",
            "1.075870065405121\n",
            "0.9870335022269083\n",
            "0.9563484167271321\n",
            "0.9249361594509043\n",
            "1.00678458741229\n",
            "1.0961091262281957\n",
            "0.8666579185024623\n"
          ]
        }
      ]
    }
  ]
}