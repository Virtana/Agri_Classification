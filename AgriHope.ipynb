{
  "nbformat": 4,
  "nbformat_minor": 0,
  "metadata": {
    "colab": {
      "name": "AgriHope.ipynb",
      "provenance": [],
      "collapsed_sections": []
    },
    "kernelspec": {
      "name": "python3",
      "display_name": "Python 3"
    },
    "language_info": {
      "name": "python"
    },
    "accelerator": "GPU",
    "gpuClass": "standard"
  },
  "cells": [
    {
      "cell_type": "markdown",
      "source": [
        "PyTorch Plant Health Classification model. Trains on dataset with images of corn excluded to use as testing data. Training images are 16x16 crops taken from single leaf images and normalized.\n"
      ],
      "metadata": {
        "id": "Fx5QtmH73ZcF"
      }
    },
    {
      "cell_type": "code",
      "execution_count": null,
      "metadata": {
        "colab": {
          "base_uri": "https://localhost:8080/"
        },
        "id": "xVzuz8x-Pnxh",
        "outputId": "ebf6df4e-a5f3-4fda-9dec-dc6a22eeb73c"
      },
      "outputs": [
        {
          "output_type": "stream",
          "name": "stdout",
          "text": [
            "fatal: destination path 'plantvillage_deeplearning_paper_dataset' already exists and is not an empty directory.\n"
          ]
        }
      ],
      "source": [
        "!git clone https://github.com/digitalepidemiologylab/plantvillage_deeplearning_paper_dataset.git"
      ]
    },
    {
      "cell_type": "code",
      "source": [
        "import os\n",
        "import torch\n",
        "from PIL import Image\n",
        "import torchvision\n",
        "import torchvision.transforms as transforms\n",
        "from PIL import Image\n",
        "from PIL import Image\n",
        "from tensorflow import io\n",
        "from tensorflow import image\n",
        "from matplotlib import pyplot as plt\n",
        "\n",
        "\n",
        "directory = '/content/plantvillage_deeplearning_paper_dataset/raw/segmented'\n",
        "healthy_dir = []\n",
        "unhealthy_dir = []\n",
        "for filename in os.listdir(directory):\n",
        "    f = os.path.join(directory, filename)\n",
        "    if 'healthy' in str(f):\n",
        "      healthy_dir.append(f)\n",
        "    else:\n",
        "        unhealthy_dir.append(f)\n",
        "print(healthy_dir)\n",
        "print(unhealthy_dir)\n",
        "healthy = []\n",
        "unhealthy = []\n",
        "val_health = []\n",
        "val_uhealth = []\n",
        "for dir in healthy_dir:\n",
        "  if 'Corn' not in str(dir):\n",
        "    for filename in os.listdir(dir):\n",
        "      f = os.path.join(dir, filename)\n",
        "      healthy.append(f)\n",
        "  else:\n",
        "    for filename in os.listdir(dir):\n",
        "      f = os.path.join(dir, filename)\n",
        "      val_health.append(f)\n",
        "for dir in unhealthy_dir:\n",
        "  if 'Corn' not in str(dir):\n",
        "    for filename in os.listdir(dir):\n",
        "      f = os.path.join(dir, filename)\n",
        "      unhealthy.append(f)\n",
        "  else:\n",
        "    for filename in os.listdir(dir):\n",
        "      f = os.path.join(dir, filename)\n",
        "      val_uhealth.append(f)\n",
        "print(len(healthy))\n",
        "print(len(unhealthy))"
      ],
      "metadata": {
        "colab": {
          "base_uri": "https://localhost:8080/"
        },
        "id": "usy8bJc3AHdn",
        "outputId": "f06c5a4d-35f3-486b-c970-e896b61c3d46"
      },
      "execution_count": null,
      "outputs": [
        {
          "output_type": "stream",
          "name": "stdout",
          "text": [
            "['/content/plantvillage_deeplearning_paper_dataset/raw/segmented/Peach___healthy', '/content/plantvillage_deeplearning_paper_dataset/raw/segmented/Potato___healthy', '/content/plantvillage_deeplearning_paper_dataset/raw/segmented/Pepper,_bell___healthy', '/content/plantvillage_deeplearning_paper_dataset/raw/segmented/Tomato___healthy', '/content/plantvillage_deeplearning_paper_dataset/raw/segmented/Raspberry___healthy', '/content/plantvillage_deeplearning_paper_dataset/raw/segmented/Grape___healthy', '/content/plantvillage_deeplearning_paper_dataset/raw/segmented/Apple___healthy', '/content/plantvillage_deeplearning_paper_dataset/raw/segmented/Blueberry___healthy', '/content/plantvillage_deeplearning_paper_dataset/raw/segmented/Soybean___healthy', '/content/plantvillage_deeplearning_paper_dataset/raw/segmented/Strawberry___healthy', '/content/plantvillage_deeplearning_paper_dataset/raw/segmented/Corn_(maize)___healthy', '/content/plantvillage_deeplearning_paper_dataset/raw/segmented/Cherry_(including_sour)___healthy']\n",
            "['/content/plantvillage_deeplearning_paper_dataset/raw/segmented/Apple___Apple_scab', '/content/plantvillage_deeplearning_paper_dataset/raw/segmented/Tomato___Septoria_leaf_spot', '/content/plantvillage_deeplearning_paper_dataset/raw/segmented/Squash___Powdery_mildew', '/content/plantvillage_deeplearning_paper_dataset/raw/segmented/Grape___Esca_(Black_Measles)', '/content/plantvillage_deeplearning_paper_dataset/raw/segmented/Apple___Black_rot', '/content/plantvillage_deeplearning_paper_dataset/raw/segmented/Tomato___Target_Spot', '/content/plantvillage_deeplearning_paper_dataset/raw/segmented/Corn_(maize)___Northern_Leaf_Blight', '/content/plantvillage_deeplearning_paper_dataset/raw/segmented/Peach___Bacterial_spot', '/content/plantvillage_deeplearning_paper_dataset/raw/segmented/Tomato___Tomato_mosaic_virus', '/content/plantvillage_deeplearning_paper_dataset/raw/segmented/Potato___Late_blight', '/content/plantvillage_deeplearning_paper_dataset/raw/segmented/Tomato___Leaf_Mold', '/content/plantvillage_deeplearning_paper_dataset/raw/segmented/Tomato___Late_blight', '/content/plantvillage_deeplearning_paper_dataset/raw/segmented/Potato___Early_blight', '/content/plantvillage_deeplearning_paper_dataset/raw/segmented/Grape___Leaf_blight_(Isariopsis_Leaf_Spot)', '/content/plantvillage_deeplearning_paper_dataset/raw/segmented/Orange___Haunglongbing_(Citrus_greening)', '/content/plantvillage_deeplearning_paper_dataset/raw/segmented/Corn_(maize)___Cercospora_leaf_spot Gray_leaf_spot', '/content/plantvillage_deeplearning_paper_dataset/raw/segmented/Apple___Cedar_apple_rust', '/content/plantvillage_deeplearning_paper_dataset/raw/segmented/Cherry_(including_sour)___Powdery_mildew', '/content/plantvillage_deeplearning_paper_dataset/raw/segmented/Tomato___Spider_mites Two-spotted_spider_mite', '/content/plantvillage_deeplearning_paper_dataset/raw/segmented/Tomato___Bacterial_spot', '/content/plantvillage_deeplearning_paper_dataset/raw/segmented/Strawberry___Leaf_scorch', '/content/plantvillage_deeplearning_paper_dataset/raw/segmented/Tomato___Tomato_Yellow_Leaf_Curl_Virus', '/content/plantvillage_deeplearning_paper_dataset/raw/segmented/Pepper,_bell___Bacterial_spot', '/content/plantvillage_deeplearning_paper_dataset/raw/segmented/Tomato___Early_blight', '/content/plantvillage_deeplearning_paper_dataset/raw/segmented/Grape___Black_rot', '/content/plantvillage_deeplearning_paper_dataset/raw/segmented/Corn_(maize)___Common_rust_']\n",
            "13922\n",
            "36532\n"
          ]
        }
      ]
    },
    {
      "cell_type": "code",
      "source": [
        "import numpy as np\n",
        "#code to display a torch image\n",
        "def imshow(img, correct = True):\n",
        "    if(correct):\n",
        "      img = img / 2 + 0.5     # unnormalize\n",
        "    npimg = img.numpy()\n",
        "    plt.rcParams[\"figure.figsize\"] = (20,20)\n",
        "    plt.imshow(np.transpose(npimg, (1, 2, 0)))\n",
        "    plt.show()"
      ],
      "metadata": {
        "id": "xFHoEZP_5Pa0"
      },
      "execution_count": null,
      "outputs": []
    },
    {
      "cell_type": "code",
      "source": [
        "def draw_box(image, tl, size, thickness = 2, color = 1):\n",
        "  t = thickness\n",
        "  image[color,tl[0]:tl[0]+ size,tl[1]: tl[1] + t] = 1 #left vertical\n",
        "  image[color,tl[0]: tl[0] + t,tl[1]:tl[1]+ size] = 1 #top horizontal\n",
        "  image[color,tl[0]:tl[0]+ size,tl[1] + size: tl[1] + size - t] = 1 #right vertical\n",
        "  image[color,tl[0] + size: tl[0] + size - t,tl[1]:tl[1]+ size] = 1 #bottom horizontal\n",
        "  return image\n",
        "\n",
        "def label_grid(image, size, draw_box):\n",
        "  x = 0\n",
        "  for i in range(image.shape[1] // size):\n",
        "    for j in range(image.shape[2] // size):\n",
        "      image = draw_box(image, (i*size,j*size), size, color = 0)\n",
        "      x += 1\n",
        "  return image"
      ],
      "metadata": {
        "id": "VlfrMJPCpLh-"
      },
      "execution_count": null,
      "outputs": []
    },
    {
      "cell_type": "code",
      "source": [
        "def grid_image(image, size = 32):\n",
        "  imgs = []\n",
        "  for i in range(image.shape[1] // size):\n",
        "    for j in range(image.shape[2] // size):\n",
        "      img = image[:,i*size:(i+1)*size, j*size:(j+1)*size]\n",
        "      if torch.mean(img) > 0.1 and img.shape == (3,size,size):\n",
        "        imgs.append(img)\n",
        "  return imgs"
      ],
      "metadata": {
        "id": "CVloW4ZktI_K"
      },
      "execution_count": null,
      "outputs": []
    },
    {
      "cell_type": "code",
      "source": [
        "from torch.utils.data import Dataset\n",
        "import random\n",
        "class CustomImageDataset(Dataset):\n",
        "    def __init__(self, labels, images, transform=None, target_transform=None):\n",
        "        self.img_labels = labels\n",
        "        self.imgs = images\n",
        "        self.transform = transform\n",
        "        self.target_transform = target_transform\n",
        "\n",
        "    def __len__(self):\n",
        "        return len(self.img_labels)\n",
        "\n",
        "    def __getitem__(self, idx):\n",
        "        image = transforms.ToTensor()(Image.open(self.imgs[idx]))\n",
        "        if image.shape[0] < 3:\n",
        "          image = torch.cat([image]*3, 0)\n",
        "        else:\n",
        "          image = image[:3]\n",
        "        imgs = grid_image(image, 16)\n",
        "        if len(imgs) != 0:\n",
        "          image = random.choice(imgs)\n",
        "        else:\n",
        "          image = transforms.Resize((16,16))(image)\n",
        "        image = torch.Tensor.float(transform(image))\n",
        "        label = [0,0]\n",
        "        label[self.img_labels[idx]] = 1\n",
        "        label = torch.Tensor(label)\n",
        "        return image, label"
      ],
      "metadata": {
        "id": "BuX6OJ6u6fpd"
      },
      "execution_count": null,
      "outputs": []
    },
    {
      "cell_type": "code",
      "source": [
        "import random\n",
        "def split(dataset, r = 0.8):\n",
        "  k = int(r*len(dataset))\n",
        "  train_idx = random.sample(list(range(len(dataset))), k = k)\n",
        "  test_idx = [i for i in range(len(dataset)) if i not in train_idx]\n",
        "  train_data = [dataset[i] for i in train_idx]\n",
        "  test_data = [dataset[i] for i in test_idx]\n",
        "  return train_data, test_data\n"
      ],
      "metadata": {
        "id": "tcOzsEuK8-sj"
      },
      "execution_count": null,
      "outputs": []
    },
    {
      "cell_type": "code",
      "source": [
        "h_train, h_test = split(healthy)\n",
        "u_train, u_test = split(unhealthy)\n",
        "train = h_train + u_train\n",
        "tr_labels = [1 for i in range(len(h_train))] + [0 for i in range(len(u_train))]\n",
        "test = h_test + u_test\n",
        "t_labels = [1 for i in range(len(h_test))] + [0 for i in range(len(u_test))]\n",
        "transform = transforms.Compose([ transforms.ColorJitter(brightness=0, contrast=0, saturation=0, hue=0),\n",
        "     transforms.Normalize((0.485, 0.456, 0.406), (0.229, 0.224, 0.225))]) \n",
        "test_transform = transforms.Compose([transforms.Normalize((0.485, 0.456, 0.406), (0.229, 0.224, 0.225))]) \n",
        "train_set = CustomImageDataset(tr_labels, train, transform = transform)\n",
        "test_set = CustomImageDataset(t_labels, test, transform = test_transform)"
      ],
      "metadata": {
        "id": "2HnN-u-g1hze"
      },
      "execution_count": null,
      "outputs": []
    },
    {
      "cell_type": "code",
      "source": [
        "batch_size = 4\n",
        "trainloader = torch.utils.data.DataLoader(train_set, batch_size=batch_size,\n",
        "                                         shuffle=True, num_workers=2)\n",
        "testloader = torch.utils.data.DataLoader(test_set, batch_size=batch_size,\n",
        "                                         shuffle=True, num_workers=2)\n",
        "dataiter = iter(trainloader)\n",
        "images, labels = dataiter.next()\n",
        "print(images[0])\n",
        "imshow(torchvision.utils.make_grid(images))"
      ],
      "metadata": {
        "id": "Fu8pilZ23MSu"
      },
      "execution_count": null,
      "outputs": []
    },
    {
      "cell_type": "code",
      "source": [
        "import torch.nn as nn\n",
        "import torch.nn.functional as F\n",
        "\n",
        "\n",
        "class Net(nn.Module):\n",
        "    def __init__(self):\n",
        "        super().__init__()\n",
        "        self.conv1 = nn.Conv2d(3, 6, 3)\n",
        "        self.pool = nn.MaxPool2d(2, 2)\n",
        "        self.conv2 = nn.Conv2d(6, 16, 2)\n",
        "        self.fc1 = nn.Linear(144, 512)\n",
        "        self.fc2 = nn.Linear(512, 256)\n",
        "        self.fc3 = nn.Linear(256, 32)\n",
        "        self.fc4 = nn.Linear(32, 2)\n",
        "\n",
        "    def forward(self, x):\n",
        "        x = self.pool(F.relu(self.conv1(x)))\n",
        "        x = self.pool(F.relu(self.conv2(x)))\n",
        "        x = torch.flatten(x, 1) # flatten all dimensions except batch\n",
        "        x = F.relu(self.fc1(x))\n",
        "        x = F.relu(self.fc2(x))\n",
        "        x = F.relu(self.fc3(x))\n",
        "        x = F.sigmoid(self.fc4(x))\n",
        "        return x\n",
        "\n",
        "\n",
        "net = Net()"
      ],
      "metadata": {
        "id": "5evAfl8V5sxO"
      },
      "execution_count": null,
      "outputs": []
    },
    {
      "cell_type": "code",
      "source": [
        "import torch.optim as optim\n",
        "\n",
        "criterion = nn.BCELoss()\n",
        "optimizer = optim.SGD(net.parameters(), lr=0.0001, momentum=0.9)"
      ],
      "metadata": {
        "id": "5i5ikpUt7R3L"
      },
      "execution_count": null,
      "outputs": []
    },
    {
      "cell_type": "code",
      "source": [
        "from tqdm import tqdm\n",
        "losses = []\n",
        "device = 'cuda'\n",
        "net = net.to(device)\n",
        "for epoch in range(10):  # loop over the dataset multiple times\n",
        "\n",
        "    running_loss = 0.0\n",
        "    for i, data in tqdm(enumerate(trainloader, 0)):\n",
        "        # get the inputs; data is a list of [inputs, labels]\n",
        "        inputs, labels = data\n",
        "        inputs = inputs.to(device)\n",
        "        labels = labels.to(device)\n",
        "\n",
        "        # zero the parameter gradients\n",
        "        optimizer.zero_grad()\n",
        "\n",
        "        # forward + backward + optimize\n",
        "        outputs = net(inputs)\n",
        "        loss = criterion(outputs, labels)\n",
        "        loss.backward()\n",
        "        optimizer.step()\n",
        "\n",
        "        # print statistics\n",
        "        running_loss += loss.item()\n",
        "        if i % 2000 == 1999:    # print every 2000 mini-batches\n",
        "            print(f'[{epoch + 1}, {i + 1:5d}] loss: {running_loss / 2000:.3f}')\n",
        "            running_loss = 0.0\n",
        "    losses.append(running_loss)\n",
        "PATH = f'AgriHope.pth'\n",
        "torch.save(net.state_dict(), PATH)\n",
        "\n",
        "print('Finished Training')"
      ],
      "metadata": {
        "colab": {
          "base_uri": "https://localhost:8080/"
        },
        "id": "P9tm-Zix7W6B",
        "outputId": "9f8ce5e7-9294-45db-b986-55202ad10e0e"
      },
      "execution_count": null,
      "outputs": [
        {
          "output_type": "stream",
          "name": "stderr",
          "text": [
            "0it [00:00, ?it/s]/usr/local/lib/python3.7/dist-packages/torch/nn/functional.py:1960: UserWarning: nn.functional.sigmoid is deprecated. Use torch.sigmoid instead.\n",
            "  warnings.warn(\"nn.functional.sigmoid is deprecated. Use torch.sigmoid instead.\")\n",
            "2003it [01:04, 33.27it/s]"
          ]
        },
        {
          "output_type": "stream",
          "name": "stdout",
          "text": [
            "[1,  2000] loss: 0.671\n"
          ]
        },
        {
          "output_type": "stream",
          "name": "stderr",
          "text": [
            "4005it [02:06, 32.27it/s]"
          ]
        },
        {
          "output_type": "stream",
          "name": "stdout",
          "text": [
            "[1,  4000] loss: 0.634\n"
          ]
        },
        {
          "output_type": "stream",
          "name": "stderr",
          "text": [
            "6002it [03:15, 28.81it/s]"
          ]
        },
        {
          "output_type": "stream",
          "name": "stdout",
          "text": [
            "[1,  6000] loss: 0.610\n"
          ]
        },
        {
          "output_type": "stream",
          "name": "stderr",
          "text": [
            "8004it [04:21, 33.58it/s]"
          ]
        },
        {
          "output_type": "stream",
          "name": "stdout",
          "text": [
            "[1,  8000] loss: 0.605\n"
          ]
        },
        {
          "output_type": "stream",
          "name": "stderr",
          "text": [
            "10004it [05:25, 30.33it/s]"
          ]
        },
        {
          "output_type": "stream",
          "name": "stdout",
          "text": [
            "[1, 10000] loss: 0.597\n"
          ]
        },
        {
          "output_type": "stream",
          "name": "stderr",
          "text": [
            "10091it [05:28, 30.71it/s]\n",
            "2004it [01:03, 30.41it/s]"
          ]
        },
        {
          "output_type": "stream",
          "name": "stdout",
          "text": [
            "[2,  2000] loss: 0.592\n"
          ]
        },
        {
          "output_type": "stream",
          "name": "stderr",
          "text": [
            "4005it [02:07, 30.80it/s]"
          ]
        },
        {
          "output_type": "stream",
          "name": "stdout",
          "text": [
            "[2,  4000] loss: 0.587\n"
          ]
        },
        {
          "output_type": "stream",
          "name": "stderr",
          "text": [
            "6006it [03:11, 32.00it/s]"
          ]
        },
        {
          "output_type": "stream",
          "name": "stdout",
          "text": [
            "[2,  6000] loss: 0.583\n"
          ]
        },
        {
          "output_type": "stream",
          "name": "stderr",
          "text": [
            "8003it [04:16, 26.74it/s]"
          ]
        },
        {
          "output_type": "stream",
          "name": "stdout",
          "text": [
            "[2,  8000] loss: 0.586\n"
          ]
        },
        {
          "output_type": "stream",
          "name": "stderr",
          "text": [
            "10003it [05:27, 28.95it/s]"
          ]
        },
        {
          "output_type": "stream",
          "name": "stdout",
          "text": [
            "[2, 10000] loss: 0.581\n"
          ]
        },
        {
          "output_type": "stream",
          "name": "stderr",
          "text": [
            "10091it [05:31, 30.47it/s]\n",
            "2005it [01:05, 30.70it/s]"
          ]
        },
        {
          "output_type": "stream",
          "name": "stdout",
          "text": [
            "[3,  2000] loss: 0.574\n"
          ]
        },
        {
          "output_type": "stream",
          "name": "stderr",
          "text": [
            "4005it [02:09, 32.30it/s]"
          ]
        },
        {
          "output_type": "stream",
          "name": "stdout",
          "text": [
            "[3,  4000] loss: 0.572\n"
          ]
        },
        {
          "output_type": "stream",
          "name": "stderr",
          "text": [
            "6004it [03:12, 30.36it/s]"
          ]
        },
        {
          "output_type": "stream",
          "name": "stdout",
          "text": [
            "[3,  6000] loss: 0.560\n"
          ]
        },
        {
          "output_type": "stream",
          "name": "stderr",
          "text": [
            "8005it [04:16, 32.56it/s]"
          ]
        },
        {
          "output_type": "stream",
          "name": "stdout",
          "text": [
            "[3,  8000] loss: 0.554\n"
          ]
        },
        {
          "output_type": "stream",
          "name": "stderr",
          "text": [
            "10004it [05:20, 30.61it/s]"
          ]
        },
        {
          "output_type": "stream",
          "name": "stdout",
          "text": [
            "[3, 10000] loss: 0.547\n"
          ]
        },
        {
          "output_type": "stream",
          "name": "stderr",
          "text": [
            "10091it [05:22, 31.26it/s]\n",
            "2004it [01:07, 30.28it/s]"
          ]
        },
        {
          "output_type": "stream",
          "name": "stdout",
          "text": [
            "[4,  2000] loss: 0.533\n"
          ]
        },
        {
          "output_type": "stream",
          "name": "stderr",
          "text": [
            "4006it [02:15, 32.58it/s]"
          ]
        },
        {
          "output_type": "stream",
          "name": "stdout",
          "text": [
            "[4,  4000] loss: 0.532\n"
          ]
        },
        {
          "output_type": "stream",
          "name": "stderr",
          "text": [
            "6006it [03:18, 30.57it/s]"
          ]
        },
        {
          "output_type": "stream",
          "name": "stdout",
          "text": [
            "[4,  6000] loss: 0.519\n"
          ]
        },
        {
          "output_type": "stream",
          "name": "stderr",
          "text": [
            "8004it [04:20, 31.20it/s]"
          ]
        },
        {
          "output_type": "stream",
          "name": "stdout",
          "text": [
            "[4,  8000] loss: 0.533\n"
          ]
        },
        {
          "output_type": "stream",
          "name": "stderr",
          "text": [
            "10002it [05:24, 32.15it/s]"
          ]
        },
        {
          "output_type": "stream",
          "name": "stdout",
          "text": [
            "[4, 10000] loss: 0.517\n"
          ]
        },
        {
          "output_type": "stream",
          "name": "stderr",
          "text": [
            "10091it [05:26, 30.87it/s]\n",
            "2006it [01:02, 31.91it/s]"
          ]
        },
        {
          "output_type": "stream",
          "name": "stdout",
          "text": [
            "[5,  2000] loss: 0.520\n"
          ]
        },
        {
          "output_type": "stream",
          "name": "stderr",
          "text": [
            "4003it [02:09, 30.28it/s]"
          ]
        },
        {
          "output_type": "stream",
          "name": "stdout",
          "text": [
            "[5,  4000] loss: 0.512\n"
          ]
        },
        {
          "output_type": "stream",
          "name": "stderr",
          "text": [
            "6002it [03:21, 27.29it/s]"
          ]
        },
        {
          "output_type": "stream",
          "name": "stdout",
          "text": [
            "[5,  6000] loss: 0.518\n"
          ]
        },
        {
          "output_type": "stream",
          "name": "stderr",
          "text": [
            "8006it [04:32, 30.32it/s]"
          ]
        },
        {
          "output_type": "stream",
          "name": "stdout",
          "text": [
            "[5,  8000] loss: 0.501\n"
          ]
        },
        {
          "output_type": "stream",
          "name": "stderr",
          "text": [
            "10006it [05:39, 30.47it/s]"
          ]
        },
        {
          "output_type": "stream",
          "name": "stdout",
          "text": [
            "[5, 10000] loss: 0.503\n"
          ]
        },
        {
          "output_type": "stream",
          "name": "stderr",
          "text": [
            "10091it [05:42, 29.47it/s]\n",
            "2005it [01:06, 28.98it/s]"
          ]
        },
        {
          "output_type": "stream",
          "name": "stdout",
          "text": [
            "[6,  2000] loss: 0.509\n"
          ]
        },
        {
          "output_type": "stream",
          "name": "stderr",
          "text": [
            "4003it [02:12, 30.43it/s]"
          ]
        },
        {
          "output_type": "stream",
          "name": "stdout",
          "text": [
            "[6,  4000] loss: 0.502\n"
          ]
        },
        {
          "output_type": "stream",
          "name": "stderr",
          "text": [
            "6005it [03:16, 33.11it/s]"
          ]
        },
        {
          "output_type": "stream",
          "name": "stdout",
          "text": [
            "[6,  6000] loss: 0.500\n"
          ]
        },
        {
          "output_type": "stream",
          "name": "stderr",
          "text": [
            "8004it [04:26, 27.16it/s]"
          ]
        },
        {
          "output_type": "stream",
          "name": "stdout",
          "text": [
            "[6,  8000] loss: 0.512\n"
          ]
        },
        {
          "output_type": "stream",
          "name": "stderr",
          "text": [
            "10005it [05:35, 31.42it/s]"
          ]
        },
        {
          "output_type": "stream",
          "name": "stdout",
          "text": [
            "[6, 10000] loss: 0.503\n"
          ]
        },
        {
          "output_type": "stream",
          "name": "stderr",
          "text": [
            "10091it [05:37, 29.86it/s]\n",
            "2003it [01:04, 31.67it/s]"
          ]
        },
        {
          "output_type": "stream",
          "name": "stdout",
          "text": [
            "[7,  2000] loss: 0.504\n"
          ]
        },
        {
          "output_type": "stream",
          "name": "stderr",
          "text": [
            "4004it [02:08, 32.04it/s]"
          ]
        },
        {
          "output_type": "stream",
          "name": "stdout",
          "text": [
            "[7,  4000] loss: 0.500\n"
          ]
        },
        {
          "output_type": "stream",
          "name": "stderr",
          "text": [
            "6004it [03:12, 31.37it/s]"
          ]
        },
        {
          "output_type": "stream",
          "name": "stdout",
          "text": [
            "[7,  6000] loss: 0.506\n"
          ]
        },
        {
          "output_type": "stream",
          "name": "stderr",
          "text": [
            "8003it [04:17, 30.87it/s]"
          ]
        },
        {
          "output_type": "stream",
          "name": "stdout",
          "text": [
            "[7,  8000] loss: 0.510\n"
          ]
        },
        {
          "output_type": "stream",
          "name": "stderr",
          "text": [
            "10006it [05:22, 31.88it/s]"
          ]
        },
        {
          "output_type": "stream",
          "name": "stdout",
          "text": [
            "[7, 10000] loss: 0.503\n"
          ]
        },
        {
          "output_type": "stream",
          "name": "stderr",
          "text": [
            "10091it [05:25, 31.04it/s]\n",
            "2002it [01:09, 27.37it/s]"
          ]
        },
        {
          "output_type": "stream",
          "name": "stdout",
          "text": [
            "[8,  2000] loss: 0.507\n"
          ]
        },
        {
          "output_type": "stream",
          "name": "stderr",
          "text": [
            "4001it [02:20, 27.31it/s]"
          ]
        },
        {
          "output_type": "stream",
          "name": "stdout",
          "text": [
            "[8,  4000] loss: 0.502\n"
          ]
        },
        {
          "output_type": "stream",
          "name": "stderr",
          "text": [
            "6002it [03:27, 20.45it/s]"
          ]
        },
        {
          "output_type": "stream",
          "name": "stdout",
          "text": [
            "[8,  6000] loss: 0.505\n"
          ]
        },
        {
          "output_type": "stream",
          "name": "stderr",
          "text": [
            "8004it [04:33, 29.41it/s]"
          ]
        },
        {
          "output_type": "stream",
          "name": "stdout",
          "text": [
            "[8,  8000] loss: 0.498\n"
          ]
        },
        {
          "output_type": "stream",
          "name": "stderr",
          "text": [
            "10004it [05:37, 30.30it/s]"
          ]
        },
        {
          "output_type": "stream",
          "name": "stdout",
          "text": [
            "[8, 10000] loss: 0.492\n"
          ]
        },
        {
          "output_type": "stream",
          "name": "stderr",
          "text": [
            "10091it [05:40, 29.66it/s]\n",
            "2004it [01:05, 31.64it/s]"
          ]
        },
        {
          "output_type": "stream",
          "name": "stdout",
          "text": [
            "[9,  2000] loss: 0.488\n"
          ]
        },
        {
          "output_type": "stream",
          "name": "stderr",
          "text": [
            "4005it [02:09, 33.75it/s]"
          ]
        },
        {
          "output_type": "stream",
          "name": "stdout",
          "text": [
            "[9,  4000] loss: 0.500\n"
          ]
        },
        {
          "output_type": "stream",
          "name": "stderr",
          "text": [
            "6003it [03:18, 30.23it/s]"
          ]
        },
        {
          "output_type": "stream",
          "name": "stdout",
          "text": [
            "[9,  6000] loss: 0.502\n"
          ]
        },
        {
          "output_type": "stream",
          "name": "stderr",
          "text": [
            "8003it [04:24, 30.28it/s]"
          ]
        },
        {
          "output_type": "stream",
          "name": "stdout",
          "text": [
            "[9,  8000] loss: 0.499\n"
          ]
        },
        {
          "output_type": "stream",
          "name": "stderr",
          "text": [
            "10005it [05:27, 31.82it/s]"
          ]
        },
        {
          "output_type": "stream",
          "name": "stdout",
          "text": [
            "[9, 10000] loss: 0.497\n"
          ]
        },
        {
          "output_type": "stream",
          "name": "stderr",
          "text": [
            "10091it [05:30, 30.55it/s]\n",
            "2006it [01:04, 32.56it/s]"
          ]
        },
        {
          "output_type": "stream",
          "name": "stdout",
          "text": [
            "[10,  2000] loss: 0.502\n"
          ]
        },
        {
          "output_type": "stream",
          "name": "stderr",
          "text": [
            "4005it [02:06, 33.17it/s]"
          ]
        },
        {
          "output_type": "stream",
          "name": "stdout",
          "text": [
            "[10,  4000] loss: 0.493\n"
          ]
        },
        {
          "output_type": "stream",
          "name": "stderr",
          "text": [
            "6006it [03:10, 30.66it/s]"
          ]
        },
        {
          "output_type": "stream",
          "name": "stdout",
          "text": [
            "[10,  6000] loss: 0.507\n"
          ]
        },
        {
          "output_type": "stream",
          "name": "stderr",
          "text": [
            "8004it [04:17, 27.62it/s]"
          ]
        },
        {
          "output_type": "stream",
          "name": "stdout",
          "text": [
            "[10,  8000] loss: 0.492\n"
          ]
        },
        {
          "output_type": "stream",
          "name": "stderr",
          "text": [
            "10004it [05:29, 30.85it/s]"
          ]
        },
        {
          "output_type": "stream",
          "name": "stdout",
          "text": [
            "[10, 10000] loss: 0.489\n"
          ]
        },
        {
          "output_type": "stream",
          "name": "stderr",
          "text": [
            "10091it [05:32, 30.35it/s]"
          ]
        },
        {
          "output_type": "stream",
          "name": "stdout",
          "text": [
            "Finished Training\n"
          ]
        },
        {
          "output_type": "stream",
          "name": "stderr",
          "text": [
            "\n"
          ]
        }
      ]
    },
    {
      "cell_type": "code",
      "source": [
        "dataiter = iter(testloader)\n",
        "images, labels = dataiter.next()\n",
        "\n",
        "# print images\n",
        "imshow(torchvision.utils.make_grid(images))\n",
        "imshow(images[0])\n",
        "print(images[0]).shape"
      ],
      "metadata": {
        "colab": {
          "base_uri": "https://localhost:8080/",
          "height": 1000
        },
        "id": "hZvcxudLCBXY",
        "outputId": "c850c3fd-e51c-4576-b912-ab2bf5e7c6f2"
      },
      "execution_count": null,
      "outputs": [
        {
          "output_type": "stream",
          "name": "stderr",
          "text": [
            "WARNING:matplotlib.image:Clipping input data to the valid range for imshow with RGB data ([0..1] for floats or [0..255] for integers).\n"
          ]
        },
        {
          "output_type": "display_data",
          "data": {
            "text/plain": [
              "<Figure size 432x288 with 1 Axes>"
            ],
            "image/png": "[encoded data removed]"
          },
          "metadata": {
            "needs_background": "light"
          }
        },
        {
          "output_type": "stream",
          "name": "stderr",
          "text": [
            "WARNING:matplotlib.image:Clipping input data to the valid range for imshow with RGB data ([0..1] for floats or [0..255] for integers).\n"
          ]
        },
        {
          "output_type": "display_data",
          "data": {
            "text/plain": [
              "<Figure size 432x288 with 1 Axes>"
            ],
            "image/png": "[encoded data removed]"
          },
          "metadata": {
            "needs_background": "light"
          }
        },
        {
          "output_type": "stream",
          "name": "stdout",
          "text": [
            "tensor([[[ 0.0227,  0.4851,  0.1939, -0.1999,  0.0056,  0.0056, -0.4226,\n",
            "          -0.5253, -0.8849, -1.5870, -1.5870, -1.0562, -0.8164, -0.7479,\n",
            "          -0.6623, -0.7479],\n",
            "         [ 0.4679,  0.3823, -0.2684, -0.7137, -0.3541, -0.0801, -0.4054,\n",
            "          -0.7137, -1.2445, -1.6042, -1.4158, -0.8164, -0.5596, -0.7650,\n",
            "          -1.0390, -1.2445],\n",
            "         [-0.0801, -0.2513, -0.5082, -0.5767, -0.4911, -0.3883, -0.3883,\n",
            "          -0.3883, -1.0048, -1.2959, -1.4329, -1.1418, -0.7822, -0.9020,\n",
            "          -1.1418, -1.1589],\n",
            "         [-0.3369, -1.0048, -1.3130, -0.9534, -0.5424, -0.4397, -0.7308,\n",
            "          -1.1075, -1.0562, -1.3302, -1.7240, -1.5528, -0.7993, -0.4054,\n",
            "          -0.2513,  0.0398],\n",
            "         [-1.1418, -0.3369, -0.1314, -0.7137, -0.7822,  0.0741,  0.3138,\n",
            "          -0.2856, -0.6794, -0.9192, -1.4329, -1.4843, -0.9192, -0.6623,\n",
            "          -0.7308, -0.6794],\n",
            "         [-0.8507, -1.0048, -0.7993, -0.1828,  0.1939,  0.0398, -0.1143,\n",
            "          -0.0287, -0.5596, -0.6965, -1.0048, -1.0904, -0.6623, -0.2856,\n",
            "          -0.1999, -0.2513],\n",
            "         [-1.4500, -0.0972,  0.3309, -0.2171, -0.2684,  0.0398, -0.2342,\n",
            "          -0.7137, -0.5767, -0.7993, -1.1247, -1.5014, -1.5185, -1.0562,\n",
            "          -0.6452, -0.6452],\n",
            "         [-1.3644, -0.9363, -0.7822, -0.4911, -0.1657, -0.4739, -0.7137,\n",
            "          -0.2856, -0.7137, -0.8678, -1.0390, -1.4500, -1.6727, -1.0904,\n",
            "          -0.3541, -0.2856],\n",
            "         [-0.4911, -0.8678, -0.6794, -0.5253, -0.7479, -1.0390, -0.9363,\n",
            "          -1.0048, -0.9534, -0.9705, -1.0048, -1.4843, -1.7754, -1.0733,\n",
            "          -0.2856, -0.3369],\n",
            "         [-1.0904, -1.2103, -1.2103, -0.6794, -0.8335, -0.4397, -0.4911,\n",
            "          -0.5767, -0.5253, -1.2274, -1.3473, -1.3644, -1.3302, -0.3883,\n",
            "           0.2282, -0.4226],\n",
            "         [-1.0390, -1.5528, -1.2274, -1.0048, -0.3027, -0.5596, -0.4911,\n",
            "          -0.9020, -0.9192, -1.0562, -1.3815, -1.4158, -0.8849, -0.3369,\n",
            "          -0.1486, -0.1486],\n",
            "         [-1.6042, -1.4500, -1.2445, -0.1657, -0.5596, -0.5938, -1.0219,\n",
            "          -0.6281, -1.5185, -1.6384, -0.7993, -0.2342, -0.5424, -0.4226,\n",
            "          -0.2856, -0.9363],\n",
            "         [-1.4158, -0.7137,  0.4166,  0.1426, -0.1486, -1.1760, -0.7308,\n",
            "          -0.2684, -0.0801,  0.0398, -0.1999, -0.1143,  0.5364,  0.6563,\n",
            "           0.4851,  0.6563],\n",
            "         [-0.8678,  0.2624,  0.4337,  0.2282, -0.7650, -0.7822, -1.0733,\n",
            "          -0.7993, -0.1999, -0.3198,  0.1597,  0.6221,  0.6563,  0.8104,\n",
            "           0.7933,  0.2624],\n",
            "         [-0.5253, -0.1486, -0.0287, -0.5938, -0.5424, -1.0390, -1.2788,\n",
            "          -1.4843, -0.4911,  0.2111,  0.4166,  0.3481,  0.5193,  0.4166,\n",
            "           0.3138,  0.5878],\n",
            "         [ 0.4166,  0.5193,  0.3481,  0.3309, -0.1657, -1.0904, -1.7069,\n",
            "          -1.3473, -0.3541,  0.2453,  0.6906,  0.6049,  0.3823,  0.2624,\n",
            "           0.2282,  0.1939]],\n",
            "\n",
            "        [[ 0.8354,  1.2556,  0.9580,  0.5203,  0.7129,  0.6604,  0.2227,\n",
            "           0.1176, -0.2500, -0.9678, -0.9503, -0.3725, -0.0924,  0.0126,\n",
            "           0.1001,  0.0651],\n",
            "         [ 1.2906,  1.1506,  0.4853, -0.0049,  0.3452,  0.5728,  0.2402,\n",
            "          -0.0749, -0.6176, -0.9853, -0.7752, -0.1275,  0.1702, -0.0049,\n",
            "          -0.2850, -0.4426],\n",
            "         [ 0.7304,  0.5028,  0.2402,  0.1352,  0.2052,  0.2577,  0.2577,\n",
            "           0.2577, -0.3725, -0.6702, -0.7927, -0.4601, -0.0574, -0.1450,\n",
            "          -0.3901, -0.3550],\n",
            "         [ 0.4678, -0.2675, -0.5826, -0.2500,  0.1527,  0.2052, -0.0924,\n",
            "          -0.4776, -0.4251, -0.7052, -1.0903, -0.8803, -0.0749,  0.3627,\n",
            "           0.5203,  0.8704],\n",
            "         [-0.3550,  0.4153,  0.6254, -0.0049, -0.0924,  0.7304,  0.9755,\n",
            "           0.3627, -0.0399, -0.2850, -0.7927, -0.8102, -0.1975,  0.1001,\n",
            "           0.0301,  0.1352],\n",
            "         [-0.0574, -0.2675, -0.0574,  0.5378,  0.9055,  0.6954,  0.5378,\n",
            "           0.6254,  0.0826, -0.0574, -0.3550, -0.4076,  0.0651,  0.4853,\n",
            "           0.5728,  0.5728],\n",
            "         [-0.6702,  0.6604,  1.0980,  0.5028,  0.4328,  0.6954,  0.4153,\n",
            "          -0.0749,  0.0651, -0.1625, -0.4776, -0.8277, -0.8102, -0.3025,\n",
            "           0.1176,  0.1702],\n",
            "         [-0.5826, -0.1975, -0.0399,  0.2227,  0.5378,  0.1702, -0.0749,\n",
            "           0.3627, -0.0749, -0.2325, -0.3901, -0.7752, -0.9678, -0.3375,\n",
            "           0.4153,  0.5378],\n",
            "         [ 0.3102, -0.1275,  0.0651,  0.1877, -0.0574, -0.4076, -0.3025,\n",
            "          -0.3725, -0.3200, -0.3375, -0.3550, -0.8102, -1.0728, -0.3200,\n",
            "           0.4853,  0.4853],\n",
            "         [-0.3025, -0.4776, -0.4776,  0.0301, -0.1450,  0.2052,  0.1527,\n",
            "           0.0651,  0.1176, -0.6001, -0.7052, -0.6877, -0.6176,  0.3803,\n",
            "           1.0105,  0.3978],\n",
            "         [-0.2500, -0.8277, -0.4951, -0.3025,  0.3978,  0.0826,  0.1527,\n",
            "          -0.2675, -0.2850, -0.4251, -0.7402, -0.7402, -0.1625,  0.4328,\n",
            "           0.6254,  0.6779],\n",
            "         [-0.8277, -0.7227, -0.5126,  0.5553,  0.1352,  0.0476, -0.3901,\n",
            "           0.0126, -0.8978, -1.0203, -0.1450,  0.4678,  0.1877,  0.3452,\n",
            "           0.4853, -0.1275],\n",
            "         [-0.6352,  0.0301,  1.1856,  0.8704,  0.5553, -0.5476, -0.0924,\n",
            "           0.3803,  0.5728,  0.6954,  0.4678,  0.5903,  1.2906,  1.4482,\n",
            "           1.2731,  1.5007],\n",
            "         [-0.0749,  1.0280,  1.2031,  0.9580, -0.0749, -0.1450, -0.4426,\n",
            "          -0.1625,  0.4503,  0.3277,  0.8354,  1.3431,  1.4132,  1.6057,\n",
            "           1.5882,  1.0980],\n",
            "         [ 0.2752,  0.6078,  0.7304,  0.1176,  0.1527, -0.4076, -0.6527,\n",
            "          -0.8627,  0.1527,  0.8704,  1.0980,  1.0630,  1.2731,  1.2031,\n",
            "           1.0980,  1.4307],\n",
            "         [ 1.2381,  1.2906,  1.1155,  1.0630,  0.5378, -0.4601, -1.0903,\n",
            "          -0.7227,  0.2927,  0.9055,  1.3782,  1.3256,  1.1331,  1.0455,\n",
            "           1.0105,  1.0280]],\n",
            "\n",
            "        [[ 0.5834,  1.0191,  0.6879,  0.2696,  0.4614,  0.4265, -0.0441,\n",
            "          -0.1487, -0.5147, -1.2293, -1.2641, -0.6890, -0.4275, -0.3404,\n",
            "          -0.2707, -0.3230],\n",
            "         [ 1.0365,  0.9145,  0.2173, -0.2532,  0.0953,  0.3393, -0.0267,\n",
            "          -0.3404, -0.8807, -1.2467, -1.0898, -0.4450, -0.1661, -0.3578,\n",
            "          -0.6541, -0.8284],\n",
            "         [ 0.4788,  0.2696, -0.0267, -0.1138, -0.0441,  0.0256, -0.0092,\n",
            "          -0.0092, -0.6367, -0.9330, -1.1073, -0.7761, -0.3927, -0.4973,\n",
            "          -0.7587, -0.7413],\n",
            "         [ 0.2173, -0.4973, -0.8458, -0.4973, -0.0964, -0.0267, -0.3578,\n",
            "          -0.7413, -0.6890, -0.9678, -1.4036, -1.1944, -0.4101,  0.0082,\n",
            "           0.1476,  0.4788],\n",
            "         [-0.6018,  0.1825,  0.3568, -0.2532, -0.3404,  0.4962,  0.7054,\n",
            "           0.0953, -0.3055, -0.5495, -1.1073, -1.1247, -0.5321, -0.2532,\n",
            "          -0.3404, -0.2532],\n",
            "         [-0.3055, -0.4973, -0.3230,  0.2871,  0.6531,  0.4614,  0.2696,\n",
            "           0.3568, -0.1835, -0.3230, -0.6715, -0.7238, -0.2707,  0.1302,\n",
            "           0.1999,  0.1825],\n",
            "         [-0.9156,  0.4265,  0.8274,  0.2522,  0.1825,  0.4614,  0.1476,\n",
            "          -0.3404, -0.2010, -0.4275, -0.7936, -1.1421, -1.1421, -0.6541,\n",
            "          -0.2532, -0.2184],\n",
            "         [-0.8284, -0.4275, -0.3055, -0.0267,  0.2871, -0.0615, -0.3404,\n",
            "           0.0953, -0.3404, -0.4973, -0.7064, -1.0898, -1.2990, -0.6890,\n",
            "           0.0431,  0.1476],\n",
            "         [ 0.0605, -0.3578, -0.2010, -0.0615, -0.3055, -0.6367, -0.5670,\n",
            "          -0.6367, -0.5844, -0.6018, -0.6715, -1.1247, -1.4036, -0.6715,\n",
            "           0.1128,  0.0953],\n",
            "         [-0.5495, -0.7064, -0.7413, -0.2184, -0.3927, -0.0267, -0.1138,\n",
            "          -0.2010, -0.1487, -0.8633, -1.0201, -1.0027, -0.9504,  0.0256,\n",
            "           0.6356,  0.0082],\n",
            "         [-0.4973, -1.0550, -0.7587, -0.5495,  0.1476, -0.1487, -0.1138,\n",
            "          -0.5321, -0.5495, -0.6890, -1.0550, -1.0550, -0.4973,  0.0779,\n",
            "           0.2522,  0.2871],\n",
            "         [-1.0724, -0.9504, -0.7761,  0.3045, -0.1138, -0.1835, -0.6541,\n",
            "          -0.2532, -1.1596, -1.2816, -0.4624,  0.1476, -0.1487, -0.0092,\n",
            "           0.1128, -0.5147],\n",
            "         [-0.8807, -0.2010,  0.9145,  0.6182,  0.3045, -0.7761, -0.3578,\n",
            "           0.1128,  0.3045,  0.4265,  0.1476,  0.2696,  0.9494,  1.0888,\n",
            "           0.8971,  1.1062],\n",
            "         [-0.3230,  0.7925,  0.9319,  0.7054, -0.3230, -0.3753, -0.7064,\n",
            "          -0.4275,  0.1825,  0.0605,  0.5136,  1.0191,  1.0714,  1.2457,\n",
            "           1.2108,  0.7054],\n",
            "         [ 0.0256,  0.3742,  0.4614, -0.1312, -0.0964, -0.6367, -0.9156,\n",
            "          -1.1247, -0.1138,  0.6008,  0.7751,  0.7402,  0.9319,  0.8448,\n",
            "           0.7228,  1.0365],\n",
            "         [ 0.9842,  1.0539,  0.8448,  0.8099,  0.2871, -0.6890, -1.3513,\n",
            "          -0.9853,  0.0256,  0.6356,  1.0539,  1.0017,  0.7925,  0.6879,\n",
            "           0.6356,  0.6356]]])\n"
          ]
        },
        {
          "output_type": "error",
          "ename": "AttributeError",
          "evalue": "ignored",
          "traceback": [
            "\u001b[0;31m---------------------------------------------------------------------------\u001b[0m",
            "\u001b[0;31mAttributeError\u001b[0m                            Traceback (most recent call last)",
            "\u001b[0;32m<ipython-input-40-5fb9d99fd3eb>\u001b[0m in \u001b[0;36m<module>\u001b[0;34m\u001b[0m\n\u001b[1;32m      5\u001b[0m \u001b[0mimshow\u001b[0m\u001b[0;34m(\u001b[0m\u001b[0mtorchvision\u001b[0m\u001b[0;34m.\u001b[0m\u001b[0mutils\u001b[0m\u001b[0;34m.\u001b[0m\u001b[0mmake_grid\u001b[0m\u001b[0;34m(\u001b[0m\u001b[0mimages\u001b[0m\u001b[0;34m)\u001b[0m\u001b[0;34m)\u001b[0m\u001b[0;34m\u001b[0m\u001b[0;34m\u001b[0m\u001b[0m\n\u001b[1;32m      6\u001b[0m \u001b[0mimshow\u001b[0m\u001b[0;34m(\u001b[0m\u001b[0mimages\u001b[0m\u001b[0;34m[\u001b[0m\u001b[0;36m0\u001b[0m\u001b[0;34m]\u001b[0m\u001b[0;34m)\u001b[0m\u001b[0;34m\u001b[0m\u001b[0;34m\u001b[0m\u001b[0m\n\u001b[0;32m----> 7\u001b[0;31m \u001b[0mprint\u001b[0m\u001b[0;34m(\u001b[0m\u001b[0mimages\u001b[0m\u001b[0;34m[\u001b[0m\u001b[0;36m0\u001b[0m\u001b[0;34m]\u001b[0m\u001b[0;34m)\u001b[0m\u001b[0;34m.\u001b[0m\u001b[0mshape\u001b[0m\u001b[0;34m\u001b[0m\u001b[0;34m\u001b[0m\u001b[0m\n\u001b[0m",
            "\u001b[0;31mAttributeError\u001b[0m: 'NoneType' object has no attribute 'shape'"
          ]
        }
      ]
    },
    {
      "cell_type": "code",
      "source": [
        "outputs = net(images)"
      ],
      "metadata": {
        "id": "YpeNlQpdCIzA"
      },
      "execution_count": null,
      "outputs": []
    },
    {
      "cell_type": "code",
      "source": [
        "print(labels)"
      ],
      "metadata": {
        "id": "hq76Keh2GYJ5"
      },
      "execution_count": null,
      "outputs": []
    },
    {
      "cell_type": "code",
      "source": [
        "_, predicted = torch.max(outputs, 1)\n",
        "print(predicted)"
      ],
      "metadata": {
        "id": "5IzWBuQMCRpH"
      },
      "execution_count": null,
      "outputs": []
    },
    {
      "cell_type": "code",
      "source": [
        "correct = 0\n",
        "total = 0\n",
        "# since we're not training, we don't need to calculate the gradients for our outputs\n",
        "with torch.no_grad():\n",
        "    for data in trainloader:\n",
        "        images, labels = data\n",
        "        # calculate outputs by running images through the network\n",
        "        outputs = net(images)\n",
        "        # the class with the highest energy is what we choose as prediction\n",
        "        _, predicted = torch.max(outputs.data, 1)\n",
        "        total += labels.size(0)\n",
        "        correct += (predicted == labels).sum().item()"
      ],
      "metadata": {
        "id": "6cUlw6AOUypy"
      },
      "execution_count": null,
      "outputs": []
    },
    {
      "cell_type": "code",
      "source": [
        "print(f'Train Accuracy of the network: {100 * correct // total} %')"
      ],
      "metadata": {
        "id": "Xa0dZ5HSU1Bs"
      },
      "execution_count": null,
      "outputs": []
    },
    {
      "cell_type": "code",
      "source": [
        "correct = 0\n",
        "total = 0\n",
        "# since we're not training, we don't need to calculate the gradients for our outputs\n",
        "with torch.no_grad():\n",
        "    for data in testloader:\n",
        "        inputs, labels = data\n",
        "        inputs = inputs.to(device)\n",
        "        labels = labels.to(device)\n",
        "        # calculate outputs by running images through the network\n",
        "        outputs = net(inputs)\n",
        "        # the class with the highest energy is what we choose as prediction\n",
        "        _, predicted = torch.max(outputs.data, 1)\n",
        "        total += labels.size(0)\n",
        "        correct += (predicted == labels[:,1]).sum().item()\n"
      ],
      "metadata": {
        "id": "DhxbEpWiGlIf"
      },
      "execution_count": null,
      "outputs": []
    },
    {
      "cell_type": "code",
      "source": [
        "print(f'Test Accuracy of the network: {100 * correct // total} %')"
      ],
      "metadata": {
        "id": "DIe97AKxGqkX",
        "colab": {
          "base_uri": "https://localhost:8080/"
        },
        "outputId": "71a34291-50a6-4dc5-f100-9eec94819273"
      },
      "execution_count": null,
      "outputs": [
        {
          "output_type": "stream",
          "name": "stdout",
          "text": [
            "Test Accuracy of the network: 74 %\n"
          ]
        }
      ]
    },
    {
      "cell_type": "code",
      "source": [
        "val = val_health + val_uhealth\n",
        "v_labels = [1 for i in range(len(val_health))] + [0 for i in range(len(val_uhealth))]"
      ],
      "metadata": {
        "id": "NiVN2pRLgjNZ"
      },
      "execution_count": null,
      "outputs": []
    },
    {
      "cell_type": "code",
      "source": [
        "val_set = CustomImageDataset(v_labels, val, transform = test_transform)\n",
        "val_loader = torch.utils.data.DataLoader(val_set, batch_size=batch_size,\n",
        "                                         shuffle=True, num_workers=2)"
      ],
      "metadata": {
        "id": "wmMbbwWYhc5W"
      },
      "execution_count": null,
      "outputs": []
    },
    {
      "cell_type": "code",
      "source": [
        "correct = 0\n",
        "total = 0\n",
        "# since we're not training, we don't need to calculate the gradients for our outputs\n",
        "with torch.no_grad():\n",
        "    for data in val_loader:\n",
        "        inputs, labels = data\n",
        "        inputs = inputs.to(device)\n",
        "        labels = labels.to(device)\n",
        "        # calculate outputs by running images through the network\n",
        "        outputs = net(inputs)\n",
        "        # the class with the highest energy is what we choose as prediction\n",
        "        _, predicted = torch.max(outputs.data, 1)\n",
        "        total += labels.size(0)\n",
        "        correct += (predicted == labels[:,1]).sum().item()"
      ],
      "metadata": {
        "id": "029cBIlJh2p4"
      },
      "execution_count": null,
      "outputs": []
    },
    {
      "cell_type": "code",
      "source": [
        "print(f'Test Accuracy of the network: {100 * correct // total} %')\n"
      ],
      "metadata": {
        "id": "LSSbXCddiPuv",
        "colab": {
          "base_uri": "https://localhost:8080/"
        },
        "outputId": "98a15a59-06a8-46eb-fae1-193bd344dfca"
      },
      "execution_count": null,
      "outputs": [
        {
          "output_type": "stream",
          "name": "stdout",
          "text": [
            "Test Accuracy of the network: 71 %\n"
          ]
        }
      ]
    },
    {
      "cell_type": "code",
      "source": [],
      "metadata": {
        "id": "rb5wCsvaE7Hc"
      },
      "execution_count": null,
      "outputs": []
    }
  ]
}